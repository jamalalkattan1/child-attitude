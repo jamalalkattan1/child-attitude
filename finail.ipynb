{
 "cells": [
  {
   "cell_type": "code",
   "execution_count": 6,
   "id": "8bb342cc-aefd-4a09-8088-47cec476d901",
   "metadata": {},
   "outputs": [
    {
     "name": "stdout",
     "output_type": "stream",
     "text": [
      "Defaulting to user installation because normal site-packages is not writeable\n",
      "Requirement already satisfied: scikit-learn in c:\\users\\jamal\\appdata\\roaming\\python\\python313\\site-packages (1.6.1)\n",
      "Requirement already satisfied: numpy>=1.19.5 in c:\\users\\jamal\\appdata\\roaming\\python\\python313\\site-packages (from scikit-learn) (2.1.3)\n",
      "Requirement already satisfied: scipy>=1.6.0 in c:\\users\\jamal\\appdata\\roaming\\python\\python313\\site-packages (from scikit-learn) (1.15.1)\n",
      "Requirement already satisfied: joblib>=1.2.0 in c:\\users\\jamal\\appdata\\roaming\\python\\python313\\site-packages (from scikit-learn) (1.4.2)\n",
      "Requirement already satisfied: threadpoolctl>=3.1.0 in c:\\users\\jamal\\appdata\\roaming\\python\\python313\\site-packages (from scikit-learn) (3.5.0)\n",
      "Note: you may need to restart the kernel to use updated packages.\n"
     ]
    },
    {
     "name": "stderr",
     "output_type": "stream",
     "text": [
      "\n",
      "[notice] A new release of pip is available: 24.2 -> 25.0\n",
      "[notice] To update, run: python.exe -m pip install --upgrade pip\n"
     ]
    }
   ],
   "source": [
    "pip install scikit-learn"
   ]
  },
  {
   "cell_type": "code",
   "execution_count": 9,
   "id": "bc666691-6f70-46c4-9005-ba12534fb427",
   "metadata": {},
   "outputs": [],
   "source": [
    "import pandas as pd\n",
    "from sklearn.preprocessing import LabelEncoder\n",
    "import matplotlib.pyplot as plt\n",
    "import seaborn as sns\n",
    "import numpy as np"
   ]
  },
  {
   "cell_type": "code",
   "execution_count": 10,
   "id": "26267089-34af-48ed-9802-93b8e2f5436b",
   "metadata": {},
   "outputs": [],
   "source": [
    "df = pd.read_csv('Dataset_Child.csv')"
   ]
  },
  {
   "cell_type": "code",
   "execution_count": 11,
   "id": "35e75aed-3fdd-4500-9154-cea32cf18ed9",
   "metadata": {},
   "outputs": [
    {
     "data": {
      "text/html": [
       "<div>\n",
       "<style scoped>\n",
       "    .dataframe tbody tr th:only-of-type {\n",
       "        vertical-align: middle;\n",
       "    }\n",
       "\n",
       "    .dataframe tbody tr th {\n",
       "        vertical-align: top;\n",
       "    }\n",
       "\n",
       "    .dataframe thead th {\n",
       "        text-align: right;\n",
       "    }\n",
       "</style>\n",
       "<table border=\"1\" class=\"dataframe\">\n",
       "  <thead>\n",
       "    <tr style=\"text-align: right;\">\n",
       "      <th></th>\n",
       "      <th>Child_ID</th>\n",
       "      <th>Age</th>\n",
       "      <th>Daily_Screen_Time_Hours</th>\n",
       "      <th>Preferred_Activity</th>\n",
       "      <th>Device_Dependency_Score</th>\n",
       "      <th>Emotional_Response_To_No_Device</th>\n",
       "      <th>Parental_Control_Strictness</th>\n",
       "      <th>Impact_on_Academics</th>\n",
       "      <th>Impact_on_Sleep</th>\n",
       "      <th>Physical_Activity_Level</th>\n",
       "      <th>...</th>\n",
       "      <th>Emotional_Regulation_Use</th>\n",
       "      <th>Parental_Monitoring_Level</th>\n",
       "      <th>Gender</th>\n",
       "      <th>Teacher_Feedback</th>\n",
       "      <th>Participation_in_Extracurricular_Activities</th>\n",
       "      <th>Parental_Involvement_in_Education</th>\n",
       "      <th>Peer_Relationship_Quality</th>\n",
       "      <th>Stress_Levels</th>\n",
       "      <th>Favorite_Subject</th>\n",
       "      <th>Hours_of_Sleep</th>\n",
       "    </tr>\n",
       "  </thead>\n",
       "  <tbody>\n",
       "    <tr>\n",
       "      <th>0</th>\n",
       "      <td>Child_3531</td>\n",
       "      <td>11.0</td>\n",
       "      <td>5.7</td>\n",
       "      <td>YouTube Kids</td>\n",
       "      <td>10.0</td>\n",
       "      <td>Irritable</td>\n",
       "      <td>3.0</td>\n",
       "      <td>Positive</td>\n",
       "      <td>Neutral</td>\n",
       "      <td>Moderate</td>\n",
       "      <td>...</td>\n",
       "      <td>Occasional</td>\n",
       "      <td>High</td>\n",
       "      <td>Female</td>\n",
       "      <td>Student's high screen time is impacting classr...</td>\n",
       "      <td>Low</td>\n",
       "      <td>Low</td>\n",
       "      <td>Poor</td>\n",
       "      <td>Moderate</td>\n",
       "      <td>Literature</td>\n",
       "      <td>5.3</td>\n",
       "    </tr>\n",
       "    <tr>\n",
       "      <th>1</th>\n",
       "      <td>Child_3675</td>\n",
       "      <td>NaN</td>\n",
       "      <td>1.8</td>\n",
       "      <td>Edu Apps</td>\n",
       "      <td>6.0</td>\n",
       "      <td>Irritable</td>\n",
       "      <td>NaN</td>\n",
       "      <td>NaN</td>\n",
       "      <td>Improved</td>\n",
       "      <td>loww</td>\n",
       "      <td>...</td>\n",
       "      <td>Rare</td>\n",
       "      <td>Moderate</td>\n",
       "      <td>unknown</td>\n",
       "      <td>Student is performing well in class and demons...</td>\n",
       "      <td>NaN</td>\n",
       "      <td>NaN</td>\n",
       "      <td>Good</td>\n",
       "      <td>Low</td>\n",
       "      <td>Physical Education</td>\n",
       "      <td>5.4</td>\n",
       "    </tr>\n",
       "    <tr>\n",
       "      <th>2</th>\n",
       "      <td>Child_1295</td>\n",
       "      <td>12.0</td>\n",
       "      <td>3.5</td>\n",
       "      <td>Video Watching</td>\n",
       "      <td>8.0</td>\n",
       "      <td>Unbothered</td>\n",
       "      <td>4.0</td>\n",
       "      <td>NaN</td>\n",
       "      <td>Neutral</td>\n",
       "      <td>HIGH</td>\n",
       "      <td>...</td>\n",
       "      <td>Rare</td>\n",
       "      <td>Moderate</td>\n",
       "      <td>Male</td>\n",
       "      <td>Student is maintaining a satisfactory performa...</td>\n",
       "      <td>High</td>\n",
       "      <td>High</td>\n",
       "      <td>Poor</td>\n",
       "      <td>Moderate</td>\n",
       "      <td>Art</td>\n",
       "      <td>5.7</td>\n",
       "    </tr>\n",
       "    <tr>\n",
       "      <th>3</th>\n",
       "      <td>Child_316</td>\n",
       "      <td>10.0</td>\n",
       "      <td>0.8</td>\n",
       "      <td>Gamee</td>\n",
       "      <td>10.0</td>\n",
       "      <td>Distressed</td>\n",
       "      <td>1.0</td>\n",
       "      <td>NaN</td>\n",
       "      <td>Improved</td>\n",
       "      <td>moderate</td>\n",
       "      <td>...</td>\n",
       "      <td>Frequent</td>\n",
       "      <td>Moderate</td>\n",
       "      <td>malee</td>\n",
       "      <td>Student is performing well in class and demons...</td>\n",
       "      <td>Low</td>\n",
       "      <td>NaN</td>\n",
       "      <td>Poor</td>\n",
       "      <td>High</td>\n",
       "      <td>Math</td>\n",
       "      <td>9.2</td>\n",
       "    </tr>\n",
       "    <tr>\n",
       "      <th>4</th>\n",
       "      <td>NaN</td>\n",
       "      <td>6.0</td>\n",
       "      <td>4.6</td>\n",
       "      <td>Gamee</td>\n",
       "      <td>1.0</td>\n",
       "      <td>Unbothered</td>\n",
       "      <td>3.0</td>\n",
       "      <td>HIGH</td>\n",
       "      <td>Disrupted</td>\n",
       "      <td>NaN</td>\n",
       "      <td>...</td>\n",
       "      <td>Rare</td>\n",
       "      <td>High</td>\n",
       "      <td>femaale</td>\n",
       "      <td>Student's high screen time is impacting classr...</td>\n",
       "      <td>Low</td>\n",
       "      <td>NaN</td>\n",
       "      <td>Average</td>\n",
       "      <td>Moderate</td>\n",
       "      <td>Literature</td>\n",
       "      <td>6.5</td>\n",
       "    </tr>\n",
       "    <tr>\n",
       "      <th>...</th>\n",
       "      <td>...</td>\n",
       "      <td>...</td>\n",
       "      <td>...</td>\n",
       "      <td>...</td>\n",
       "      <td>...</td>\n",
       "      <td>...</td>\n",
       "      <td>...</td>\n",
       "      <td>...</td>\n",
       "      <td>...</td>\n",
       "      <td>...</td>\n",
       "      <td>...</td>\n",
       "      <td>...</td>\n",
       "      <td>...</td>\n",
       "      <td>...</td>\n",
       "      <td>...</td>\n",
       "      <td>...</td>\n",
       "      <td>...</td>\n",
       "      <td>...</td>\n",
       "      <td>...</td>\n",
       "      <td>...</td>\n",
       "      <td>...</td>\n",
       "    </tr>\n",
       "    <tr>\n",
       "      <th>4199</th>\n",
       "      <td>Child_1659</td>\n",
       "      <td>5.0</td>\n",
       "      <td>3.9</td>\n",
       "      <td>Gaming</td>\n",
       "      <td>4.0</td>\n",
       "      <td>Unbothered</td>\n",
       "      <td>4.0</td>\n",
       "      <td>Positive</td>\n",
       "      <td>Disrupted</td>\n",
       "      <td>High</td>\n",
       "      <td>...</td>\n",
       "      <td>NaN</td>\n",
       "      <td>Moderate</td>\n",
       "      <td>Female</td>\n",
       "      <td>Student is maintaining a satisfactory performa...</td>\n",
       "      <td>High</td>\n",
       "      <td>NaN</td>\n",
       "      <td>Excellent</td>\n",
       "      <td>High</td>\n",
       "      <td>Art</td>\n",
       "      <td>5.2</td>\n",
       "    </tr>\n",
       "    <tr>\n",
       "      <th>4200</th>\n",
       "      <td>Child_1914</td>\n",
       "      <td>7.0</td>\n",
       "      <td>1.6</td>\n",
       "      <td>Video Watching</td>\n",
       "      <td>5.0</td>\n",
       "      <td>Irritable</td>\n",
       "      <td>3.0</td>\n",
       "      <td>NaN</td>\n",
       "      <td>Disrupted</td>\n",
       "      <td>NaN</td>\n",
       "      <td>...</td>\n",
       "      <td>Occasional</td>\n",
       "      <td>Moderate</td>\n",
       "      <td>NaN</td>\n",
       "      <td>Student is performing well in class and demons...</td>\n",
       "      <td>High</td>\n",
       "      <td>Moderate</td>\n",
       "      <td>Poor</td>\n",
       "      <td>Low</td>\n",
       "      <td>Art</td>\n",
       "      <td>9.0</td>\n",
       "    </tr>\n",
       "    <tr>\n",
       "      <th>4201</th>\n",
       "      <td>Child_2194</td>\n",
       "      <td>9.0</td>\n",
       "      <td>NaN</td>\n",
       "      <td>Video Watching</td>\n",
       "      <td>2.0</td>\n",
       "      <td>Irritable</td>\n",
       "      <td>2.0</td>\n",
       "      <td>Negative</td>\n",
       "      <td>NaN</td>\n",
       "      <td>High</td>\n",
       "      <td>...</td>\n",
       "      <td>Frequent</td>\n",
       "      <td>Moderate</td>\n",
       "      <td>Male</td>\n",
       "      <td>No feedback provided due to missing data.</td>\n",
       "      <td>NaN</td>\n",
       "      <td>Low</td>\n",
       "      <td>Good</td>\n",
       "      <td>High</td>\n",
       "      <td>Science</td>\n",
       "      <td>6.7</td>\n",
       "    </tr>\n",
       "    <tr>\n",
       "      <th>4202</th>\n",
       "      <td>Child_2949</td>\n",
       "      <td>7.0</td>\n",
       "      <td>16.0</td>\n",
       "      <td>Video-Watching</td>\n",
       "      <td>8.0</td>\n",
       "      <td>Irritable</td>\n",
       "      <td>3.0</td>\n",
       "      <td>loww</td>\n",
       "      <td>Disrupted</td>\n",
       "      <td>HIGH</td>\n",
       "      <td>...</td>\n",
       "      <td>Occasional</td>\n",
       "      <td>Moderate</td>\n",
       "      <td>malee</td>\n",
       "      <td>Student's high screen time is impacting classr...</td>\n",
       "      <td>Low</td>\n",
       "      <td>Moderate</td>\n",
       "      <td>Good</td>\n",
       "      <td>High</td>\n",
       "      <td>Literature</td>\n",
       "      <td>6.1</td>\n",
       "    </tr>\n",
       "    <tr>\n",
       "      <th>4203</th>\n",
       "      <td>NaN</td>\n",
       "      <td>NaN</td>\n",
       "      <td>3.9</td>\n",
       "      <td>NaN</td>\n",
       "      <td>3.0</td>\n",
       "      <td>Neutral</td>\n",
       "      <td>5.0</td>\n",
       "      <td>NaN</td>\n",
       "      <td>Disrupted</td>\n",
       "      <td>Low</td>\n",
       "      <td>...</td>\n",
       "      <td>Frequent</td>\n",
       "      <td>High</td>\n",
       "      <td>NaN</td>\n",
       "      <td>Student is maintaining a satisfactory performa...</td>\n",
       "      <td>NaN</td>\n",
       "      <td>Low</td>\n",
       "      <td>Good</td>\n",
       "      <td>Moderate</td>\n",
       "      <td>Science</td>\n",
       "      <td>6.6</td>\n",
       "    </tr>\n",
       "  </tbody>\n",
       "</table>\n",
       "<p>4204 rows × 24 columns</p>\n",
       "</div>"
      ],
      "text/plain": [
       "        Child_ID   Age  Daily_Screen_Time_Hours Preferred_Activity  \\\n",
       "0     Child_3531  11.0                      5.7       YouTube Kids   \n",
       "1     Child_3675   NaN                      1.8           Edu Apps   \n",
       "2     Child_1295  12.0                      3.5     Video Watching   \n",
       "3      Child_316  10.0                      0.8              Gamee   \n",
       "4            NaN   6.0                      4.6              Gamee   \n",
       "...          ...   ...                      ...                ...   \n",
       "4199  Child_1659   5.0                      3.9             Gaming   \n",
       "4200  Child_1914   7.0                      1.6     Video Watching   \n",
       "4201  Child_2194   9.0                      NaN     Video Watching   \n",
       "4202  Child_2949   7.0                     16.0     Video-Watching   \n",
       "4203         NaN   NaN                      3.9                NaN   \n",
       "\n",
       "      Device_Dependency_Score Emotional_Response_To_No_Device  \\\n",
       "0                        10.0                       Irritable   \n",
       "1                         6.0                       Irritable   \n",
       "2                         8.0                      Unbothered   \n",
       "3                        10.0                      Distressed   \n",
       "4                         1.0                      Unbothered   \n",
       "...                       ...                             ...   \n",
       "4199                      4.0                      Unbothered   \n",
       "4200                      5.0                       Irritable   \n",
       "4201                      2.0                       Irritable   \n",
       "4202                      8.0                       Irritable   \n",
       "4203                      3.0                         Neutral   \n",
       "\n",
       "      Parental_Control_Strictness Impact_on_Academics Impact_on_Sleep  \\\n",
       "0                             3.0            Positive         Neutral   \n",
       "1                             NaN                 NaN        Improved   \n",
       "2                             4.0                 NaN         Neutral   \n",
       "3                             1.0                 NaN        Improved   \n",
       "4                             3.0                HIGH       Disrupted   \n",
       "...                           ...                 ...             ...   \n",
       "4199                          4.0            Positive       Disrupted   \n",
       "4200                          3.0                 NaN       Disrupted   \n",
       "4201                          2.0            Negative             NaN   \n",
       "4202                          3.0                loww       Disrupted   \n",
       "4203                          5.0                 NaN       Disrupted   \n",
       "\n",
       "     Physical_Activity_Level  ... Emotional_Regulation_Use  \\\n",
       "0                   Moderate  ...               Occasional   \n",
       "1                       loww  ...                     Rare   \n",
       "2                       HIGH  ...                     Rare   \n",
       "3                   moderate  ...                 Frequent   \n",
       "4                        NaN  ...                     Rare   \n",
       "...                      ...  ...                      ...   \n",
       "4199                    High  ...                      NaN   \n",
       "4200                     NaN  ...               Occasional   \n",
       "4201                    High  ...                 Frequent   \n",
       "4202                    HIGH  ...               Occasional   \n",
       "4203                     Low  ...                 Frequent   \n",
       "\n",
       "     Parental_Monitoring_Level   Gender  \\\n",
       "0                         High   Female   \n",
       "1                     Moderate  unknown   \n",
       "2                     Moderate     Male   \n",
       "3                     Moderate    malee   \n",
       "4                         High  femaale   \n",
       "...                        ...      ...   \n",
       "4199                  Moderate   Female   \n",
       "4200                  Moderate      NaN   \n",
       "4201                  Moderate     Male   \n",
       "4202                  Moderate    malee   \n",
       "4203                      High      NaN   \n",
       "\n",
       "                                       Teacher_Feedback  \\\n",
       "0     Student's high screen time is impacting classr...   \n",
       "1     Student is performing well in class and demons...   \n",
       "2     Student is maintaining a satisfactory performa...   \n",
       "3     Student is performing well in class and demons...   \n",
       "4     Student's high screen time is impacting classr...   \n",
       "...                                                 ...   \n",
       "4199  Student is maintaining a satisfactory performa...   \n",
       "4200  Student is performing well in class and demons...   \n",
       "4201          No feedback provided due to missing data.   \n",
       "4202  Student's high screen time is impacting classr...   \n",
       "4203  Student is maintaining a satisfactory performa...   \n",
       "\n",
       "     Participation_in_Extracurricular_Activities  \\\n",
       "0                                            Low   \n",
       "1                                            NaN   \n",
       "2                                           High   \n",
       "3                                            Low   \n",
       "4                                            Low   \n",
       "...                                          ...   \n",
       "4199                                        High   \n",
       "4200                                        High   \n",
       "4201                                         NaN   \n",
       "4202                                         Low   \n",
       "4203                                         NaN   \n",
       "\n",
       "     Parental_Involvement_in_Education Peer_Relationship_Quality  \\\n",
       "0                                  Low                      Poor   \n",
       "1                                  NaN                      Good   \n",
       "2                                 High                      Poor   \n",
       "3                                  NaN                      Poor   \n",
       "4                                  NaN                   Average   \n",
       "...                                ...                       ...   \n",
       "4199                               NaN                 Excellent   \n",
       "4200                          Moderate                      Poor   \n",
       "4201                               Low                      Good   \n",
       "4202                          Moderate                      Good   \n",
       "4203                               Low                      Good   \n",
       "\n",
       "     Stress_Levels    Favorite_Subject Hours_of_Sleep  \n",
       "0         Moderate          Literature            5.3  \n",
       "1              Low  Physical Education            5.4  \n",
       "2         Moderate                 Art            5.7  \n",
       "3             High                Math            9.2  \n",
       "4         Moderate          Literature            6.5  \n",
       "...            ...                 ...            ...  \n",
       "4199          High                 Art            5.2  \n",
       "4200           Low                 Art            9.0  \n",
       "4201          High             Science            6.7  \n",
       "4202          High          Literature            6.1  \n",
       "4203      Moderate             Science            6.6  \n",
       "\n",
       "[4204 rows x 24 columns]"
      ]
     },
     "execution_count": 11,
     "metadata": {},
     "output_type": "execute_result"
    }
   ],
   "source": [
    "df"
   ]
  },
  {
   "cell_type": "code",
   "execution_count": 12,
   "id": "92428f75-5b56-48c1-8ca6-8f56b37133cd",
   "metadata": {},
   "outputs": [],
   "source": [
    "df = df[(df['Age'].isna()) | ((df['Age'] >= 3) & (df['Age'] <= 12))]"
   ]
  },
  {
   "cell_type": "code",
   "execution_count": 13,
   "id": "23c464fa-ae20-4882-b9ff-367860d047e5",
   "metadata": {},
   "outputs": [],
   "source": [
    "df = df[(df['Daily_Screen_Time_Hours'].isna()) | ((df['Daily_Screen_Time_Hours'] >= 0) & (df['Daily_Screen_Time_Hours'] <= 21))]\n",
    "df['Daily_Screen_Time_Hours'] = df['Daily_Screen_Time_Hours'].apply(lambda x: round(x, 1) if pd.notnull(x) else x)"
   ]
  },
  {
   "cell_type": "code",
   "execution_count": 14,
   "id": "15944706-3fad-4196-b6d6-6e5208124b85",
   "metadata": {},
   "outputs": [],
   "source": [
    "df['Preferred_Activity'] = df['Preferred_Activity'].apply(lambda x: str(x).strip().title().replace(\"-\", \" \") if pd.notnull(x) else x)\n",
    "df['Preferred_Activity'] = df['Preferred_Activity'].apply(lambda x: str(x).strip().replace(\"-\", \" \") if pd.notnull(x) else x)\n",
    "df['Preferred_Activity'] = df['Preferred_Activity'].replace({'Gamee': 'Gaming', 'YouTubeKid': 'YouTubeKids' , 'Youtubekid' : 'YouTubeKids','Edu Apps' :'Educational Apps'})"
   ]
  },
  {
   "cell_type": "code",
   "execution_count": 15,
   "id": "46c256d6-7c5c-4889-84ee-c729452579c8",
   "metadata": {},
   "outputs": [],
   "source": [
    "df['Preferred_Activity'] = df['Preferred_Activity'].replace({'YouTubeKids': 'Youtube Kids'})"
   ]
  },
  {
   "cell_type": "code",
   "execution_count": 16,
   "id": "0ec3d88f-3b33-4bf0-b07b-0a408790da0a",
   "metadata": {},
   "outputs": [],
   "source": [
    "df['Emotional_Response_To_No_Device'] = df['Emotional_Response_To_No_Device'].str.strip()\n",
    "df['Emotional_Response_To_No_Device'] = df['Emotional_Response_To_No_Device'].astype(str)"
   ]
  },
  {
   "cell_type": "code",
   "execution_count": 17,
   "id": "8aa389ba-7b93-4301-b5a8-26c0a2f869cd",
   "metadata": {},
   "outputs": [],
   "source": [
    "df['Impact_on_Academics'] = df['Impact_on_Academics'].astype(str)\n",
    "df['Impact_on_Academics'] = df['Impact_on_Academics'].str.lower()"
   ]
  },
  {
   "cell_type": "code",
   "execution_count": 18,
   "id": "ee39bce8-72f2-4dae-bb2e-6b1a15dda91a",
   "metadata": {},
   "outputs": [],
   "source": [
    "df['Impact_on_Academics'] = df['Impact_on_Academics'].replace({\n",
    "    'positivee': 'positive',\n",
    "    'positiv': 'positive',\n",
    "    'Negative': 'negative',\n",
    "    'negativee': 'negative',\n",
    "    'moderatee': 'moderate',\n",
    "    'loww': 'low'\n",
    "})\n",
    "df['Emotional_Response_To_No_Device'] = df['Emotional_Response_To_No_Device'].astype(str)"
   ]
  },
  {
   "cell_type": "code",
   "execution_count": 19,
   "id": "932ec592-626a-41f4-97b8-d67657341e0c",
   "metadata": {},
   "outputs": [],
   "source": [
    "df['Impact_on_Academics'] = df['Impact_on_Academics'].replace({\n",
    "    'negative': 'low',\n",
    "    'neutral': 'moderate',\n",
    "    'positive': 'high',\n",
    "})"
   ]
  },
  {
   "cell_type": "code",
   "execution_count": 20,
   "id": "b884f830-e40c-47e6-9766-98e95fd3488a",
   "metadata": {},
   "outputs": [],
   "source": [
    "df['Impact_on_Sleep'] = df['Impact_on_Sleep'].astype(str)\n",
    "df['Impact_on_Sleep'] = df['Impact_on_Sleep'].str.strip()"
   ]
  },
  {
   "cell_type": "code",
   "execution_count": 21,
   "id": "feeec336-eca6-4420-b5dd-c6ba970d6c79",
   "metadata": {},
   "outputs": [],
   "source": [
    "df['Physical_Activity_Level'] = df['Physical_Activity_Level'].astype(str)\n",
    "df['Physical_Activity_Level'] = df['Physical_Activity_Level'].str.strip()"
   ]
  },
  {
   "cell_type": "code",
   "execution_count": 22,
   "id": "bcb5b079-f70f-4edd-860f-889f10ab625c",
   "metadata": {},
   "outputs": [],
   "source": [
    "df['Physical_Activity_Level'] = df['Physical_Activity_Level'].replace({\n",
    "    'positiv': 'positive',\n",
    "    'negativee': 'negative',\n",
    "    'loww': 'low' ,\n",
    "    'HIGH': 'High',\n",
    "    'MODERATE': 'Moderate',\n",
    "    'moderate' : 'Moderate' ,\n",
    "    'LOW': 'low' ,\n",
    "    'Low': 'low'\n",
    "\n",
    "})"
   ]
  },
  {
   "cell_type": "code",
   "execution_count": 23,
   "id": "1449356f-98e7-452f-8a5e-8865e1bd4fcd",
   "metadata": {},
   "outputs": [],
   "source": [
    "df['Physical_Activity_Level'] = df['Physical_Activity_Level'].replace({\n",
    "    'negative': 'low',\n",
    "    'positive': 'High',\n",
    "})"
   ]
  },
  {
   "cell_type": "code",
   "execution_count": 24,
   "id": "48af5c26-c622-44cd-87c9-ce36d7ce348f",
   "metadata": {},
   "outputs": [],
   "source": [
    "df['Social_Interactions_Preference'] = (\n",
    "    df['Social_Interactions_Preference'].astype(str) .str.lower() .map({\n",
    "        'balance': 'Balanced',\n",
    "        'balanced': 'Balanced',\n",
    "        'offline': 'Offline',\n",
    "        'offliine': 'Offline',\n",
    "        'online': 'Online',\n",
    "        'onliine': 'Online'\n",
    "    }).fillna(df['Social_Interactions_Preference'])\n",
    ")"
   ]
  },
  {
   "cell_type": "code",
   "execution_count": 25,
   "id": "74a4ea76-a0d8-426e-acc5-1ac0867d2f0f",
   "metadata": {},
   "outputs": [],
   "source": [
    "df[\"Parent_Screen_Time_Habits\"] = df[\"Parent_Screen_Time_Habits\"].replace(\"#VALUE!\", np.nan)"
   ]
  },
  {
   "cell_type": "code",
   "execution_count": 26,
   "id": "f2782d06-7274-4d88-9ecb-bedf5c276b6d",
   "metadata": {},
   "outputs": [],
   "source": [
    "df['Sibling_Influence'] = df['Sibling_Influence'].astype(str)\n",
    "df['Parent_Screen_Time_Habits'] = df['Parent_Screen_Time_Habits'].astype(str)\n",
    "df['Cognitive_Impact'] = df['Cognitive_Impact'].astype(str)\n",
    "df['Emotional_Regulation_Use'] = df['Emotional_Regulation_Use'].astype(str)\n",
    "\n",
    "df['Sibling_Influence'] = df['Sibling_Influence'].str.strip()\n",
    "df['Parent_Screen_Time_Habits'] = df['Parent_Screen_Time_Habits'].str.strip()\n",
    "df['Cognitive_Impact'] = df['Cognitive_Impact'].str.strip()\n",
    "df['Emotional_Regulation_Use'] = df['Emotional_Regulation_Use'].str.strip()\n",
    "\n",
    "df['Sibling_Influence'] = df['Sibling_Influence'].str.lower()\n",
    "df['Parent_Screen_Time_Habits'] = df['Parent_Screen_Time_Habits'].str.lower()\n",
    "df['Cognitive_Impact'] = df['Cognitive_Impact'].str.lower()\n",
    "df['Emotional_Regulation_Use'] = df['Emotional_Regulation_Use'].str.lower()"
   ]
  },
  {
   "cell_type": "code",
   "execution_count": 27,
   "id": "e0ebf1a3-f415-42b8-bbe1-550eff9093c3",
   "metadata": {},
   "outputs": [],
   "source": [
    "df['Gender'] = df['Gender'].replace({'malee': 'Male', 'femaale': 'Female', 'F': 'Female','unknown': np.nan})"
   ]
  },
  {
   "cell_type": "code",
   "execution_count": 28,
   "id": "6592e310-8a21-46b6-b812-f04c895a9cce",
   "metadata": {},
   "outputs": [],
   "source": [
    "df['Teacher_Feedback'] = df['Teacher_Feedback'].replace({'isufigifgb  fiuewhfwef': np.nan})"
   ]
  },
  {
   "cell_type": "code",
   "execution_count": 29,
   "id": "e482b2f1-e1d8-4173-af01-cbaa5e75641f",
   "metadata": {},
   "outputs": [],
   "source": [
    "df['Participation_in_Extracurricular_Activities'] = df['Participation_in_Extracurricular_Activities'].str.strip()\n",
    "df['Participation_in_Extracurricular_Activities'] = df['Participation_in_Extracurricular_Activities'].str.lower()\n",
    "df['Participation_in_Extracurricular_Activities'] = df['Participation_in_Extracurricular_Activities'].replace({'None' : None})"
   ]
  },
  {
   "cell_type": "code",
   "execution_count": 30,
   "id": "d2bbda2f-5f28-433a-9592-48369f640e2d",
   "metadata": {},
   "outputs": [],
   "source": [
    "df['Parental_Involvement_in_Education'] = df['Parental_Involvement_in_Education'].str.strip()\n",
    "df['Parental_Involvement_in_Education'] = df['Parental_Involvement_in_Education'].str.lower()\n",
    "df['Parental_Involvement_in_Education'] = df['Parental_Involvement_in_Education'].replace({'None' : None})"
   ]
  },
  {
   "cell_type": "code",
   "execution_count": 31,
   "id": "9465259f-e260-48ff-a2e4-98b70ae7ce97",
   "metadata": {},
   "outputs": [],
   "source": [
    "df['Peer_Relationship_Quality'] = df['Peer_Relationship_Quality'].str.strip()\n",
    "df['Peer_Relationship_Quality'] = df['Peer_Relationship_Quality'].str.lower()\n",
    "\n",
    "df['Stress_Levels'] = df['Stress_Levels'].str.strip()\n",
    "df['Stress_Levels'] = df['Stress_Levels'].str.lower()\n",
    "\n",
    "df['Favorite_Subject'] = df['Favorite_Subject'].str.strip()\n",
    "df['Favorite_Subject'] = df['Favorite_Subject'].str.lower()"
   ]
  },
  {
   "cell_type": "code",
   "execution_count": 32,
   "id": "501d693f-11e5-4fe4-a902-e8548021ff06",
   "metadata": {},
   "outputs": [
    {
     "data": {
      "text/html": [
       "<div>\n",
       "<style scoped>\n",
       "    .dataframe tbody tr th:only-of-type {\n",
       "        vertical-align: middle;\n",
       "    }\n",
       "\n",
       "    .dataframe tbody tr th {\n",
       "        vertical-align: top;\n",
       "    }\n",
       "\n",
       "    .dataframe thead th {\n",
       "        text-align: right;\n",
       "    }\n",
       "</style>\n",
       "<table border=\"1\" class=\"dataframe\">\n",
       "  <thead>\n",
       "    <tr style=\"text-align: right;\">\n",
       "      <th></th>\n",
       "      <th>Child_ID</th>\n",
       "      <th>Age</th>\n",
       "      <th>Daily_Screen_Time_Hours</th>\n",
       "      <th>Preferred_Activity</th>\n",
       "      <th>Device_Dependency_Score</th>\n",
       "      <th>Emotional_Response_To_No_Device</th>\n",
       "      <th>Parental_Control_Strictness</th>\n",
       "      <th>Impact_on_Academics</th>\n",
       "      <th>Impact_on_Sleep</th>\n",
       "      <th>Physical_Activity_Level</th>\n",
       "      <th>...</th>\n",
       "      <th>Emotional_Regulation_Use</th>\n",
       "      <th>Parental_Monitoring_Level</th>\n",
       "      <th>Gender</th>\n",
       "      <th>Teacher_Feedback</th>\n",
       "      <th>Participation_in_Extracurricular_Activities</th>\n",
       "      <th>Parental_Involvement_in_Education</th>\n",
       "      <th>Peer_Relationship_Quality</th>\n",
       "      <th>Stress_Levels</th>\n",
       "      <th>Favorite_Subject</th>\n",
       "      <th>Hours_of_Sleep</th>\n",
       "    </tr>\n",
       "  </thead>\n",
       "  <tbody>\n",
       "    <tr>\n",
       "      <th>0</th>\n",
       "      <td>Child_3531</td>\n",
       "      <td>11.0</td>\n",
       "      <td>5.7</td>\n",
       "      <td>Youtube Kids</td>\n",
       "      <td>10.0</td>\n",
       "      <td>Irritable</td>\n",
       "      <td>3.0</td>\n",
       "      <td>high</td>\n",
       "      <td>Neutral</td>\n",
       "      <td>Moderate</td>\n",
       "      <td>...</td>\n",
       "      <td>occasional</td>\n",
       "      <td>High</td>\n",
       "      <td>Female</td>\n",
       "      <td>Student's high screen time is impacting classr...</td>\n",
       "      <td>low</td>\n",
       "      <td>low</td>\n",
       "      <td>poor</td>\n",
       "      <td>moderate</td>\n",
       "      <td>literature</td>\n",
       "      <td>5.3</td>\n",
       "    </tr>\n",
       "    <tr>\n",
       "      <th>1</th>\n",
       "      <td>Child_3675</td>\n",
       "      <td>NaN</td>\n",
       "      <td>1.8</td>\n",
       "      <td>Educational Apps</td>\n",
       "      <td>6.0</td>\n",
       "      <td>Irritable</td>\n",
       "      <td>NaN</td>\n",
       "      <td>nan</td>\n",
       "      <td>Improved</td>\n",
       "      <td>low</td>\n",
       "      <td>...</td>\n",
       "      <td>rare</td>\n",
       "      <td>Moderate</td>\n",
       "      <td>NaN</td>\n",
       "      <td>Student is performing well in class and demons...</td>\n",
       "      <td>NaN</td>\n",
       "      <td>NaN</td>\n",
       "      <td>good</td>\n",
       "      <td>low</td>\n",
       "      <td>physical education</td>\n",
       "      <td>5.4</td>\n",
       "    </tr>\n",
       "    <tr>\n",
       "      <th>2</th>\n",
       "      <td>Child_1295</td>\n",
       "      <td>12.0</td>\n",
       "      <td>3.5</td>\n",
       "      <td>Video Watching</td>\n",
       "      <td>8.0</td>\n",
       "      <td>Unbothered</td>\n",
       "      <td>4.0</td>\n",
       "      <td>nan</td>\n",
       "      <td>Neutral</td>\n",
       "      <td>High</td>\n",
       "      <td>...</td>\n",
       "      <td>rare</td>\n",
       "      <td>Moderate</td>\n",
       "      <td>Male</td>\n",
       "      <td>Student is maintaining a satisfactory performa...</td>\n",
       "      <td>high</td>\n",
       "      <td>high</td>\n",
       "      <td>poor</td>\n",
       "      <td>moderate</td>\n",
       "      <td>art</td>\n",
       "      <td>5.7</td>\n",
       "    </tr>\n",
       "    <tr>\n",
       "      <th>3</th>\n",
       "      <td>Child_316</td>\n",
       "      <td>10.0</td>\n",
       "      <td>0.8</td>\n",
       "      <td>Gaming</td>\n",
       "      <td>10.0</td>\n",
       "      <td>Distressed</td>\n",
       "      <td>1.0</td>\n",
       "      <td>nan</td>\n",
       "      <td>Improved</td>\n",
       "      <td>Moderate</td>\n",
       "      <td>...</td>\n",
       "      <td>frequent</td>\n",
       "      <td>Moderate</td>\n",
       "      <td>Male</td>\n",
       "      <td>Student is performing well in class and demons...</td>\n",
       "      <td>low</td>\n",
       "      <td>NaN</td>\n",
       "      <td>poor</td>\n",
       "      <td>high</td>\n",
       "      <td>math</td>\n",
       "      <td>9.2</td>\n",
       "    </tr>\n",
       "    <tr>\n",
       "      <th>4</th>\n",
       "      <td>NaN</td>\n",
       "      <td>6.0</td>\n",
       "      <td>4.6</td>\n",
       "      <td>Gaming</td>\n",
       "      <td>1.0</td>\n",
       "      <td>Unbothered</td>\n",
       "      <td>3.0</td>\n",
       "      <td>high</td>\n",
       "      <td>Disrupted</td>\n",
       "      <td>nan</td>\n",
       "      <td>...</td>\n",
       "      <td>rare</td>\n",
       "      <td>High</td>\n",
       "      <td>Female</td>\n",
       "      <td>Student's high screen time is impacting classr...</td>\n",
       "      <td>low</td>\n",
       "      <td>NaN</td>\n",
       "      <td>average</td>\n",
       "      <td>moderate</td>\n",
       "      <td>literature</td>\n",
       "      <td>6.5</td>\n",
       "    </tr>\n",
       "    <tr>\n",
       "      <th>...</th>\n",
       "      <td>...</td>\n",
       "      <td>...</td>\n",
       "      <td>...</td>\n",
       "      <td>...</td>\n",
       "      <td>...</td>\n",
       "      <td>...</td>\n",
       "      <td>...</td>\n",
       "      <td>...</td>\n",
       "      <td>...</td>\n",
       "      <td>...</td>\n",
       "      <td>...</td>\n",
       "      <td>...</td>\n",
       "      <td>...</td>\n",
       "      <td>...</td>\n",
       "      <td>...</td>\n",
       "      <td>...</td>\n",
       "      <td>...</td>\n",
       "      <td>...</td>\n",
       "      <td>...</td>\n",
       "      <td>...</td>\n",
       "      <td>...</td>\n",
       "    </tr>\n",
       "    <tr>\n",
       "      <th>4199</th>\n",
       "      <td>Child_1659</td>\n",
       "      <td>5.0</td>\n",
       "      <td>3.9</td>\n",
       "      <td>Gaming</td>\n",
       "      <td>4.0</td>\n",
       "      <td>Unbothered</td>\n",
       "      <td>4.0</td>\n",
       "      <td>high</td>\n",
       "      <td>Disrupted</td>\n",
       "      <td>High</td>\n",
       "      <td>...</td>\n",
       "      <td>nan</td>\n",
       "      <td>Moderate</td>\n",
       "      <td>Female</td>\n",
       "      <td>Student is maintaining a satisfactory performa...</td>\n",
       "      <td>high</td>\n",
       "      <td>NaN</td>\n",
       "      <td>excellent</td>\n",
       "      <td>high</td>\n",
       "      <td>art</td>\n",
       "      <td>5.2</td>\n",
       "    </tr>\n",
       "    <tr>\n",
       "      <th>4200</th>\n",
       "      <td>Child_1914</td>\n",
       "      <td>7.0</td>\n",
       "      <td>1.6</td>\n",
       "      <td>Video Watching</td>\n",
       "      <td>5.0</td>\n",
       "      <td>Irritable</td>\n",
       "      <td>3.0</td>\n",
       "      <td>nan</td>\n",
       "      <td>Disrupted</td>\n",
       "      <td>nan</td>\n",
       "      <td>...</td>\n",
       "      <td>occasional</td>\n",
       "      <td>Moderate</td>\n",
       "      <td>NaN</td>\n",
       "      <td>Student is performing well in class and demons...</td>\n",
       "      <td>high</td>\n",
       "      <td>moderate</td>\n",
       "      <td>poor</td>\n",
       "      <td>low</td>\n",
       "      <td>art</td>\n",
       "      <td>9.0</td>\n",
       "    </tr>\n",
       "    <tr>\n",
       "      <th>4201</th>\n",
       "      <td>Child_2194</td>\n",
       "      <td>9.0</td>\n",
       "      <td>NaN</td>\n",
       "      <td>Video Watching</td>\n",
       "      <td>2.0</td>\n",
       "      <td>Irritable</td>\n",
       "      <td>2.0</td>\n",
       "      <td>low</td>\n",
       "      <td>nan</td>\n",
       "      <td>High</td>\n",
       "      <td>...</td>\n",
       "      <td>frequent</td>\n",
       "      <td>Moderate</td>\n",
       "      <td>Male</td>\n",
       "      <td>No feedback provided due to missing data.</td>\n",
       "      <td>NaN</td>\n",
       "      <td>low</td>\n",
       "      <td>good</td>\n",
       "      <td>high</td>\n",
       "      <td>science</td>\n",
       "      <td>6.7</td>\n",
       "    </tr>\n",
       "    <tr>\n",
       "      <th>4202</th>\n",
       "      <td>Child_2949</td>\n",
       "      <td>7.0</td>\n",
       "      <td>16.0</td>\n",
       "      <td>Video Watching</td>\n",
       "      <td>8.0</td>\n",
       "      <td>Irritable</td>\n",
       "      <td>3.0</td>\n",
       "      <td>low</td>\n",
       "      <td>Disrupted</td>\n",
       "      <td>High</td>\n",
       "      <td>...</td>\n",
       "      <td>occasional</td>\n",
       "      <td>Moderate</td>\n",
       "      <td>Male</td>\n",
       "      <td>Student's high screen time is impacting classr...</td>\n",
       "      <td>low</td>\n",
       "      <td>moderate</td>\n",
       "      <td>good</td>\n",
       "      <td>high</td>\n",
       "      <td>literature</td>\n",
       "      <td>6.1</td>\n",
       "    </tr>\n",
       "    <tr>\n",
       "      <th>4203</th>\n",
       "      <td>NaN</td>\n",
       "      <td>NaN</td>\n",
       "      <td>3.9</td>\n",
       "      <td>NaN</td>\n",
       "      <td>3.0</td>\n",
       "      <td>Neutral</td>\n",
       "      <td>5.0</td>\n",
       "      <td>nan</td>\n",
       "      <td>Disrupted</td>\n",
       "      <td>low</td>\n",
       "      <td>...</td>\n",
       "      <td>frequent</td>\n",
       "      <td>High</td>\n",
       "      <td>NaN</td>\n",
       "      <td>Student is maintaining a satisfactory performa...</td>\n",
       "      <td>NaN</td>\n",
       "      <td>low</td>\n",
       "      <td>good</td>\n",
       "      <td>moderate</td>\n",
       "      <td>science</td>\n",
       "      <td>6.6</td>\n",
       "    </tr>\n",
       "  </tbody>\n",
       "</table>\n",
       "<p>4134 rows × 24 columns</p>\n",
       "</div>"
      ],
      "text/plain": [
       "        Child_ID   Age  Daily_Screen_Time_Hours Preferred_Activity  \\\n",
       "0     Child_3531  11.0                      5.7       Youtube Kids   \n",
       "1     Child_3675   NaN                      1.8   Educational Apps   \n",
       "2     Child_1295  12.0                      3.5     Video Watching   \n",
       "3      Child_316  10.0                      0.8             Gaming   \n",
       "4            NaN   6.0                      4.6             Gaming   \n",
       "...          ...   ...                      ...                ...   \n",
       "4199  Child_1659   5.0                      3.9             Gaming   \n",
       "4200  Child_1914   7.0                      1.6     Video Watching   \n",
       "4201  Child_2194   9.0                      NaN     Video Watching   \n",
       "4202  Child_2949   7.0                     16.0     Video Watching   \n",
       "4203         NaN   NaN                      3.9                NaN   \n",
       "\n",
       "      Device_Dependency_Score Emotional_Response_To_No_Device  \\\n",
       "0                        10.0                       Irritable   \n",
       "1                         6.0                       Irritable   \n",
       "2                         8.0                      Unbothered   \n",
       "3                        10.0                      Distressed   \n",
       "4                         1.0                      Unbothered   \n",
       "...                       ...                             ...   \n",
       "4199                      4.0                      Unbothered   \n",
       "4200                      5.0                       Irritable   \n",
       "4201                      2.0                       Irritable   \n",
       "4202                      8.0                       Irritable   \n",
       "4203                      3.0                         Neutral   \n",
       "\n",
       "      Parental_Control_Strictness Impact_on_Academics Impact_on_Sleep  \\\n",
       "0                             3.0                high         Neutral   \n",
       "1                             NaN                 nan        Improved   \n",
       "2                             4.0                 nan         Neutral   \n",
       "3                             1.0                 nan        Improved   \n",
       "4                             3.0                high       Disrupted   \n",
       "...                           ...                 ...             ...   \n",
       "4199                          4.0                high       Disrupted   \n",
       "4200                          3.0                 nan       Disrupted   \n",
       "4201                          2.0                 low             nan   \n",
       "4202                          3.0                 low       Disrupted   \n",
       "4203                          5.0                 nan       Disrupted   \n",
       "\n",
       "     Physical_Activity_Level  ... Emotional_Regulation_Use  \\\n",
       "0                   Moderate  ...               occasional   \n",
       "1                        low  ...                     rare   \n",
       "2                       High  ...                     rare   \n",
       "3                   Moderate  ...                 frequent   \n",
       "4                        nan  ...                     rare   \n",
       "...                      ...  ...                      ...   \n",
       "4199                    High  ...                      nan   \n",
       "4200                     nan  ...               occasional   \n",
       "4201                    High  ...                 frequent   \n",
       "4202                    High  ...               occasional   \n",
       "4203                     low  ...                 frequent   \n",
       "\n",
       "     Parental_Monitoring_Level  Gender  \\\n",
       "0                         High  Female   \n",
       "1                     Moderate     NaN   \n",
       "2                     Moderate    Male   \n",
       "3                     Moderate    Male   \n",
       "4                         High  Female   \n",
       "...                        ...     ...   \n",
       "4199                  Moderate  Female   \n",
       "4200                  Moderate     NaN   \n",
       "4201                  Moderate    Male   \n",
       "4202                  Moderate    Male   \n",
       "4203                      High     NaN   \n",
       "\n",
       "                                       Teacher_Feedback  \\\n",
       "0     Student's high screen time is impacting classr...   \n",
       "1     Student is performing well in class and demons...   \n",
       "2     Student is maintaining a satisfactory performa...   \n",
       "3     Student is performing well in class and demons...   \n",
       "4     Student's high screen time is impacting classr...   \n",
       "...                                                 ...   \n",
       "4199  Student is maintaining a satisfactory performa...   \n",
       "4200  Student is performing well in class and demons...   \n",
       "4201          No feedback provided due to missing data.   \n",
       "4202  Student's high screen time is impacting classr...   \n",
       "4203  Student is maintaining a satisfactory performa...   \n",
       "\n",
       "     Participation_in_Extracurricular_Activities  \\\n",
       "0                                            low   \n",
       "1                                            NaN   \n",
       "2                                           high   \n",
       "3                                            low   \n",
       "4                                            low   \n",
       "...                                          ...   \n",
       "4199                                        high   \n",
       "4200                                        high   \n",
       "4201                                         NaN   \n",
       "4202                                         low   \n",
       "4203                                         NaN   \n",
       "\n",
       "     Parental_Involvement_in_Education Peer_Relationship_Quality  \\\n",
       "0                                  low                      poor   \n",
       "1                                  NaN                      good   \n",
       "2                                 high                      poor   \n",
       "3                                  NaN                      poor   \n",
       "4                                  NaN                   average   \n",
       "...                                ...                       ...   \n",
       "4199                               NaN                 excellent   \n",
       "4200                          moderate                      poor   \n",
       "4201                               low                      good   \n",
       "4202                          moderate                      good   \n",
       "4203                               low                      good   \n",
       "\n",
       "     Stress_Levels    Favorite_Subject Hours_of_Sleep  \n",
       "0         moderate          literature            5.3  \n",
       "1              low  physical education            5.4  \n",
       "2         moderate                 art            5.7  \n",
       "3             high                math            9.2  \n",
       "4         moderate          literature            6.5  \n",
       "...            ...                 ...            ...  \n",
       "4199          high                 art            5.2  \n",
       "4200           low                 art            9.0  \n",
       "4201          high             science            6.7  \n",
       "4202          high          literature            6.1  \n",
       "4203      moderate             science            6.6  \n",
       "\n",
       "[4134 rows x 24 columns]"
      ]
     },
     "execution_count": 32,
     "metadata": {},
     "output_type": "execute_result"
    }
   ],
   "source": [
    "df"
   ]
  },
  {
   "cell_type": "code",
   "execution_count": 33,
   "id": "b51d30f5-4422-485f-aca1-2c4556483202",
   "metadata": {},
   "outputs": [
    {
     "name": "stdout",
     "output_type": "stream",
     "text": [
      "0       3\n",
      "1       0\n",
      "2       2\n",
      "3       1\n",
      "4       1\n",
      "       ..\n",
      "4199    1\n",
      "4200    2\n",
      "4201    2\n",
      "4202    2\n",
      "4203    4\n",
      "Name: Preferred_Activity, Length: 4134, dtype: int64\n"
     ]
    }
   ],
   "source": [
    "encoder = LabelEncoder()\n",
    "\n",
    "df['Preferred_Activity'] = encoder.fit_transform(df['Preferred_Activity'])\n",
    "\n",
    "print(df['Preferred_Activity'])"
   ]
  },
  {
   "cell_type": "code",
   "execution_count": 34,
   "id": "4b4242c7-f0cc-48a9-989a-d485760db73e",
   "metadata": {},
   "outputs": [
    {
     "name": "stdout",
     "output_type": "stream",
     "text": [
      "{'Educational Apps': np.int64(0), 'Gaming': np.int64(1), 'Video Watching': np.int64(2), 'Youtube Kids': np.int64(3), nan: np.int64(4)}\n"
     ]
    }
   ],
   "source": [
    "label_mapping = dict(zip(encoder.classes_, encoder.transform(encoder.classes_)))\n",
    "\n",
    "print(label_mapping)"
   ]
  },
  {
   "cell_type": "code",
   "execution_count": 35,
   "id": "2fa15470-c912-4b8f-9c20-15896c0b8554",
   "metadata": {},
   "outputs": [
    {
     "name": "stdout",
     "output_type": "stream",
     "text": [
      "0       1\n",
      "1       1\n",
      "2       3\n",
      "3       0\n",
      "4       3\n",
      "       ..\n",
      "4199    3\n",
      "4200    1\n",
      "4201    1\n",
      "4202    1\n",
      "4203    2\n",
      "Name: Emotional_Response_To_No_Device, Length: 4134, dtype: int64\n"
     ]
    }
   ],
   "source": [
    "encoder = LabelEncoder()\n",
    "\n",
    "df['Emotional_Response_To_No_Device'] = encoder.fit_transform(df['Emotional_Response_To_No_Device'])\n",
    "\n",
    "print(df['Emotional_Response_To_No_Device'])"
   ]
  },
  {
   "cell_type": "code",
   "execution_count": 36,
   "id": "5742b895-9d12-44e9-a71d-acc2c00022c8",
   "metadata": {},
   "outputs": [
    {
     "name": "stdout",
     "output_type": "stream",
     "text": [
      "{'Distressed': np.int64(0), 'Irritable': np.int64(1), 'Neutral': np.int64(2), 'Unbothered': np.int64(3), 'nan': np.int64(4)}\n"
     ]
    }
   ],
   "source": [
    "label_mapping = dict(zip(encoder.classes_, encoder.transform(encoder.classes_)))\n",
    "\n",
    "print(label_mapping)"
   ]
  },
  {
   "cell_type": "code",
   "execution_count": 37,
   "id": "f4bfc9c2-156d-48c5-80a8-463b7d422118",
   "metadata": {},
   "outputs": [
    {
     "name": "stdout",
     "output_type": "stream",
     "text": [
      "0       0\n",
      "1       3\n",
      "2       3\n",
      "3       3\n",
      "4       0\n",
      "       ..\n",
      "4199    0\n",
      "4200    3\n",
      "4201    1\n",
      "4202    1\n",
      "4203    3\n",
      "Name: Impact_on_Academics, Length: 4134, dtype: int64\n"
     ]
    }
   ],
   "source": [
    "encoder = LabelEncoder()\n",
    "\n",
    "df['Impact_on_Academics'] = encoder.fit_transform(df['Impact_on_Academics'])\n",
    "\n",
    "print(df['Impact_on_Academics'])"
   ]
  },
  {
   "cell_type": "code",
   "execution_count": 38,
   "id": "38572817-c0c8-42c7-8edc-5a7e700008c1",
   "metadata": {},
   "outputs": [
    {
     "name": "stdout",
     "output_type": "stream",
     "text": [
      "{'high': np.int64(0), 'low': np.int64(1), 'moderate': np.int64(2), 'nan': np.int64(3)}\n"
     ]
    }
   ],
   "source": [
    "label_mapping = dict(zip(encoder.classes_, encoder.transform(encoder.classes_)))\n",
    "\n",
    "print(label_mapping)"
   ]
  },
  {
   "cell_type": "code",
   "execution_count": 39,
   "id": "6df8546d-7c49-4cf7-b2ad-5872b4e782de",
   "metadata": {},
   "outputs": [
    {
     "name": "stdout",
     "output_type": "stream",
     "text": [
      "0       2\n",
      "1       1\n",
      "2       2\n",
      "3       1\n",
      "4       0\n",
      "       ..\n",
      "4199    0\n",
      "4200    0\n",
      "4201    3\n",
      "4202    0\n",
      "4203    0\n",
      "Name: Impact_on_Sleep, Length: 4134, dtype: int64\n"
     ]
    }
   ],
   "source": [
    "encoder = LabelEncoder()\n",
    "\n",
    "df['Impact_on_Sleep'] = encoder.fit_transform(df['Impact_on_Sleep'])\n",
    "\n",
    "print(df['Impact_on_Sleep'])"
   ]
  },
  {
   "cell_type": "code",
   "execution_count": 40,
   "id": "3e232f89-44fb-46f6-b563-4608130b98e4",
   "metadata": {},
   "outputs": [
    {
     "name": "stdout",
     "output_type": "stream",
     "text": [
      "{'Disrupted': np.int64(0), 'Improved': np.int64(1), 'Neutral': np.int64(2), 'nan': np.int64(3)}\n"
     ]
    }
   ],
   "source": [
    "label_mapping = dict(zip(encoder.classes_, encoder.transform(encoder.classes_)))\n",
    "\n",
    "print(label_mapping)"
   ]
  },
  {
   "cell_type": "code",
   "execution_count": 41,
   "id": "2a47e319-d703-44bd-9bc3-f84b5edc4400",
   "metadata": {},
   "outputs": [
    {
     "name": "stdout",
     "output_type": "stream",
     "text": [
      "0       1\n",
      "1       2\n",
      "2       0\n",
      "3       1\n",
      "4       3\n",
      "       ..\n",
      "4199    0\n",
      "4200    3\n",
      "4201    0\n",
      "4202    0\n",
      "4203    2\n",
      "Name: Physical_Activity_Level, Length: 4134, dtype: int64\n"
     ]
    }
   ],
   "source": [
    "encoder = LabelEncoder()\n",
    "\n",
    "df['Physical_Activity_Level'] = encoder.fit_transform(df['Physical_Activity_Level'])\n",
    "\n",
    "print(df['Physical_Activity_Level'])"
   ]
  },
  {
   "cell_type": "code",
   "execution_count": 42,
   "id": "e2ec6b84-f29b-4282-b1d7-9bb2f9c0a018",
   "metadata": {},
   "outputs": [
    {
     "name": "stdout",
     "output_type": "stream",
     "text": [
      "{'High': np.int64(0), 'Moderate': np.int64(1), 'low': np.int64(2), 'nan': np.int64(3)}\n"
     ]
    }
   ],
   "source": [
    "label_mapping = dict(zip(encoder.classes_, encoder.transform(encoder.classes_)))\n",
    "\n",
    "print(label_mapping)"
   ]
  },
  {
   "cell_type": "code",
   "execution_count": 43,
   "id": "776ce1d7-e406-42f9-b1c3-7ba1b8609ec7",
   "metadata": {},
   "outputs": [
    {
     "name": "stdout",
     "output_type": "stream",
     "text": [
      "0       1\n",
      "1       2\n",
      "2       1\n",
      "3       3\n",
      "4       3\n",
      "       ..\n",
      "4199    3\n",
      "4200    1\n",
      "4201    0\n",
      "4202    1\n",
      "4203    3\n",
      "Name: Social_Interactions_Preference, Length: 4134, dtype: int64\n"
     ]
    }
   ],
   "source": [
    "encoder = LabelEncoder()\n",
    "\n",
    "df['Social_Interactions_Preference'] = encoder.fit_transform(df['Social_Interactions_Preference'])\n",
    "\n",
    "print(df['Social_Interactions_Preference'])"
   ]
  },
  {
   "cell_type": "code",
   "execution_count": 44,
   "id": "3e9ce11e-5a7b-4f35-acec-cd60e0fde432",
   "metadata": {},
   "outputs": [
    {
     "name": "stdout",
     "output_type": "stream",
     "text": [
      "{'Balanced': np.int64(0), 'Offline': np.int64(1), 'Online': np.int64(2), nan: np.int64(3)}\n"
     ]
    }
   ],
   "source": [
    "label_mapping = dict(zip(encoder.classes_, encoder.transform(encoder.classes_)))\n",
    "\n",
    "print(label_mapping)"
   ]
  },
  {
   "cell_type": "code",
   "execution_count": 45,
   "id": "6ee609b0-caeb-48c2-b1b1-f5b5bb83a906",
   "metadata": {},
   "outputs": [
    {
     "name": "stdout",
     "output_type": "stream",
     "text": [
      "Label mapping for Parent_Screen_Time_Habits:\n",
      " {'high': np.int64(0), 'low': np.int64(1), 'moderate': np.int64(2), 'nan': np.int64(3)} \n",
      "\n",
      "Label mapping for Sibling_Influence:\n",
      " {'nan': np.int64(0), 'negative': np.int64(1), 'neutral': np.int64(2), 'positive': np.int64(3)} \n",
      "\n",
      "Label mapping for Cognitive_Impact:\n",
      " {'declined': np.int64(0), 'improved': np.int64(1), 'nan': np.int64(2), 'neutral': np.int64(3)} \n",
      "\n",
      "Label mapping for Emotional_Regulation_Use:\n",
      " {'frequent': np.int64(0), 'nan': np.int64(1), 'occasional': np.int64(2), 'rare': np.int64(3)} \n",
      "\n",
      "Label mapping for Parental_Monitoring_Level:\n",
      " {'High': np.int64(0), 'Low': np.int64(1), 'Moderate': np.int64(2), nan: np.int64(3)} \n",
      "\n",
      "Label mapping for Gender:\n",
      " {'Female': np.int64(0), 'Male': np.int64(1), nan: np.int64(2)} \n",
      "\n",
      "Label mapping for Teacher_Feedback:\n",
      " {'No feedback provided due to missing data.': np.int64(0), 'Student is maintaining a satisfactory performance in class but shows room for improvement in creativity. Moderate screen time could be better managed to encourage more creative thinking.': np.int64(1), 'Student is performing well in class and demonstrates excellent creativity. The balanced screen time seems to contribute positively to their engagement and imagination.': np.int64(2), \"Student's high screen time is impacting classroom performance and limiting creative expression.\": np.int64(3), \"Student's high screen time is impacting classroom performance and limiting creative expression. Reducing screen time could significantly enhance their focus and originality.\": np.int64(4), nan: np.int64(5)} \n",
      "\n",
      "Label mapping for Participation_in_Extracurricular_Activities:\n",
      " {'high': np.int64(0), 'low': np.int64(1), 'moderate': np.int64(2), nan: np.int64(3)} \n",
      "\n",
      "Label mapping for Parental_Involvement_in_Education:\n",
      " {'high': np.int64(0), 'low': np.int64(1), 'moderate': np.int64(2), nan: np.int64(3)} \n",
      "\n",
      "Label mapping for Peer_Relationship_Quality:\n",
      " {'average': np.int64(0), 'excellent': np.int64(1), 'good': np.int64(2), 'poor': np.int64(3), nan: np.int64(4)} \n",
      "\n",
      "Label mapping for Stress_Levels:\n",
      " {'high': np.int64(0), 'low': np.int64(1), 'moderate': np.int64(2)} \n",
      "\n",
      "Label mapping for Favorite_Subject:\n",
      " {'art': np.int64(0), 'literature': np.int64(1), 'math': np.int64(2), 'physical education': np.int64(3), 'science': np.int64(4), nan: np.int64(5)} \n",
      "\n"
     ]
    }
   ],
   "source": [
    "columns_to_encode = [\n",
    "    \"Parent_Screen_Time_Habits\",\n",
    "    \"Sibling_Influence\",\n",
    "    \"Cognitive_Impact\",\n",
    "    \"Emotional_Regulation_Use\",\n",
    "    \"Parental_Monitoring_Level\",\n",
    "    \"Gender\",\n",
    "    \"Teacher_Feedback\",\n",
    "    \"Participation_in_Extracurricular_Activities\",\n",
    "    \"Parental_Involvement_in_Education\",\n",
    "    \"Peer_Relationship_Quality\",\n",
    "    \"Stress_Levels\",\n",
    "    \"Favorite_Subject\"\n",
    "]\n",
    "\n",
    "label_mappings = {}\n",
    "\n",
    "for col in columns_to_encode:\n",
    "    encoder = LabelEncoder()\n",
    "    df[col] = encoder.fit_transform(df[col])\n",
    "    label_mappings[col] = dict(zip(encoder.classes_, encoder.transform(encoder.classes_)))\n",
    "    print(f\"Label mapping for {col}:\\n\", label_mappings[col], \"\\n\")"
   ]
  },
  {
   "cell_type": "code",
   "execution_count": 46,
   "id": "de0fc33f-6af1-4452-a7d5-d0404b494a4b",
   "metadata": {},
   "outputs": [],
   "source": [
    "df.fillna({'Child_ID': \"Unknown\"}, inplace=True)"
   ]
  },
  {
   "cell_type": "code",
   "execution_count": 47,
   "id": "c0f3f3ce-8f45-43fd-9a6c-61f4c02ffd4b",
   "metadata": {},
   "outputs": [],
   "source": [
    "df['Age'] = df['Age'].fillna(df.groupby('Social_Interactions_Preference')['Age'].transform('median'))"
   ]
  },
  {
   "cell_type": "code",
   "execution_count": 48,
   "id": "172aceb2-b1b5-4df4-9114-9eda11d8fe34",
   "metadata": {},
   "outputs": [
    {
     "name": "stdout",
     "output_type": "stream",
     "text": [
      "0\n"
     ]
    }
   ],
   "source": [
    "print(df['Age'].isnull().sum())"
   ]
  },
  {
   "cell_type": "code",
   "execution_count": 49,
   "id": "0b0a5431-209f-4668-a834-d5891a74bc03",
   "metadata": {},
   "outputs": [
    {
     "name": "stdout",
     "output_type": "stream",
     "text": [
      "Remaining missing values: 0\n"
     ]
    }
   ],
   "source": [
    "df['Daily_Screen_Time_Hours'] = df['Daily_Screen_Time_Hours'].fillna(\n",
    "    df.groupby('Teacher_Feedback')['Daily_Screen_Time_Hours'].transform('mean')\n",
    ")\n",
    "df['Daily_Screen_Time_Hours'] = df['Daily_Screen_Time_Hours'].fillna(df['Daily_Screen_Time_Hours'].mean())\n",
    "\n",
    "missing_values = df['Daily_Screen_Time_Hours'].isna().sum()\n",
    "print(\"Remaining missing values:\", missing_values)"
   ]
  },
  {
   "cell_type": "code",
   "execution_count": 50,
   "id": "6c368b1b-d0a9-4170-ba6b-72a1c3e8cef2",
   "metadata": {},
   "outputs": [
    {
     "name": "stdout",
     "output_type": "stream",
     "text": [
      "0\n"
     ]
    }
   ],
   "source": [
    "print(df['Daily_Screen_Time_Hours'].isnull().sum())"
   ]
  },
  {
   "cell_type": "code",
   "execution_count": 51,
   "id": "22f4b8b1-93af-48ad-be77-900fbdc99d61",
   "metadata": {},
   "outputs": [],
   "source": [
    "mode_value = df[df['Preferred_Activity'] != 4]['Preferred_Activity'].mode()[0]\n",
    "df['Preferred_Activity'] = df['Preferred_Activity'].replace(4, mode_value)\n",
    "df['Preferred_Activity'] = df['Preferred_Activity'].replace(4, np.nan)  \n",
    "df['Preferred_Activity'] = df['Preferred_Activity'].fillna(df['Preferred_Activity'].mode()[0])"
   ]
  },
  {
   "cell_type": "code",
   "execution_count": 52,
   "id": "c02b168f-8d1f-4e8e-86d8-dbbb718ae4f2",
   "metadata": {},
   "outputs": [
    {
     "name": "stdout",
     "output_type": "stream",
     "text": [
      "[3 0 2 1]\n"
     ]
    }
   ],
   "source": [
    "print(df['Preferred_Activity'].unique())"
   ]
  },
  {
   "cell_type": "code",
   "execution_count": 53,
   "id": "7641c657-1b7f-4650-851c-8663d5040885",
   "metadata": {},
   "outputs": [
    {
     "data": {
      "text/html": [
       "<div>\n",
       "<style scoped>\n",
       "    .dataframe tbody tr th:only-of-type {\n",
       "        vertical-align: middle;\n",
       "    }\n",
       "\n",
       "    .dataframe tbody tr th {\n",
       "        vertical-align: top;\n",
       "    }\n",
       "\n",
       "    .dataframe thead th {\n",
       "        text-align: right;\n",
       "    }\n",
       "</style>\n",
       "<table border=\"1\" class=\"dataframe\">\n",
       "  <thead>\n",
       "    <tr style=\"text-align: right;\">\n",
       "      <th></th>\n",
       "      <th>Child_ID</th>\n",
       "      <th>Age</th>\n",
       "      <th>Daily_Screen_Time_Hours</th>\n",
       "      <th>Preferred_Activity</th>\n",
       "      <th>Device_Dependency_Score</th>\n",
       "      <th>Emotional_Response_To_No_Device</th>\n",
       "      <th>Parental_Control_Strictness</th>\n",
       "      <th>Impact_on_Academics</th>\n",
       "      <th>Impact_on_Sleep</th>\n",
       "      <th>Physical_Activity_Level</th>\n",
       "      <th>...</th>\n",
       "      <th>Emotional_Regulation_Use</th>\n",
       "      <th>Parental_Monitoring_Level</th>\n",
       "      <th>Gender</th>\n",
       "      <th>Teacher_Feedback</th>\n",
       "      <th>Participation_in_Extracurricular_Activities</th>\n",
       "      <th>Parental_Involvement_in_Education</th>\n",
       "      <th>Peer_Relationship_Quality</th>\n",
       "      <th>Stress_Levels</th>\n",
       "      <th>Favorite_Subject</th>\n",
       "      <th>Hours_of_Sleep</th>\n",
       "    </tr>\n",
       "  </thead>\n",
       "  <tbody>\n",
       "    <tr>\n",
       "      <th>0</th>\n",
       "      <td>Child_3531</td>\n",
       "      <td>11.0</td>\n",
       "      <td>5.700000</td>\n",
       "      <td>3</td>\n",
       "      <td>10.0</td>\n",
       "      <td>1</td>\n",
       "      <td>3.0</td>\n",
       "      <td>0</td>\n",
       "      <td>2</td>\n",
       "      <td>1</td>\n",
       "      <td>...</td>\n",
       "      <td>2</td>\n",
       "      <td>0</td>\n",
       "      <td>0</td>\n",
       "      <td>3</td>\n",
       "      <td>1</td>\n",
       "      <td>1</td>\n",
       "      <td>3</td>\n",
       "      <td>2</td>\n",
       "      <td>1</td>\n",
       "      <td>5.3</td>\n",
       "    </tr>\n",
       "    <tr>\n",
       "      <th>1</th>\n",
       "      <td>Child_3675</td>\n",
       "      <td>8.0</td>\n",
       "      <td>1.800000</td>\n",
       "      <td>0</td>\n",
       "      <td>6.0</td>\n",
       "      <td>1</td>\n",
       "      <td>NaN</td>\n",
       "      <td>3</td>\n",
       "      <td>1</td>\n",
       "      <td>2</td>\n",
       "      <td>...</td>\n",
       "      <td>3</td>\n",
       "      <td>2</td>\n",
       "      <td>2</td>\n",
       "      <td>2</td>\n",
       "      <td>3</td>\n",
       "      <td>3</td>\n",
       "      <td>2</td>\n",
       "      <td>1</td>\n",
       "      <td>3</td>\n",
       "      <td>5.4</td>\n",
       "    </tr>\n",
       "    <tr>\n",
       "      <th>2</th>\n",
       "      <td>Child_1295</td>\n",
       "      <td>12.0</td>\n",
       "      <td>3.500000</td>\n",
       "      <td>2</td>\n",
       "      <td>8.0</td>\n",
       "      <td>3</td>\n",
       "      <td>4.0</td>\n",
       "      <td>3</td>\n",
       "      <td>2</td>\n",
       "      <td>0</td>\n",
       "      <td>...</td>\n",
       "      <td>3</td>\n",
       "      <td>2</td>\n",
       "      <td>1</td>\n",
       "      <td>1</td>\n",
       "      <td>0</td>\n",
       "      <td>0</td>\n",
       "      <td>3</td>\n",
       "      <td>2</td>\n",
       "      <td>0</td>\n",
       "      <td>5.7</td>\n",
       "    </tr>\n",
       "    <tr>\n",
       "      <th>3</th>\n",
       "      <td>Child_316</td>\n",
       "      <td>10.0</td>\n",
       "      <td>0.800000</td>\n",
       "      <td>1</td>\n",
       "      <td>10.0</td>\n",
       "      <td>0</td>\n",
       "      <td>1.0</td>\n",
       "      <td>3</td>\n",
       "      <td>1</td>\n",
       "      <td>1</td>\n",
       "      <td>...</td>\n",
       "      <td>0</td>\n",
       "      <td>2</td>\n",
       "      <td>1</td>\n",
       "      <td>2</td>\n",
       "      <td>1</td>\n",
       "      <td>3</td>\n",
       "      <td>3</td>\n",
       "      <td>0</td>\n",
       "      <td>2</td>\n",
       "      <td>9.2</td>\n",
       "    </tr>\n",
       "    <tr>\n",
       "      <th>4</th>\n",
       "      <td>Unknown</td>\n",
       "      <td>6.0</td>\n",
       "      <td>4.600000</td>\n",
       "      <td>1</td>\n",
       "      <td>1.0</td>\n",
       "      <td>3</td>\n",
       "      <td>3.0</td>\n",
       "      <td>0</td>\n",
       "      <td>0</td>\n",
       "      <td>3</td>\n",
       "      <td>...</td>\n",
       "      <td>3</td>\n",
       "      <td>0</td>\n",
       "      <td>0</td>\n",
       "      <td>4</td>\n",
       "      <td>1</td>\n",
       "      <td>3</td>\n",
       "      <td>0</td>\n",
       "      <td>2</td>\n",
       "      <td>1</td>\n",
       "      <td>6.5</td>\n",
       "    </tr>\n",
       "    <tr>\n",
       "      <th>...</th>\n",
       "      <td>...</td>\n",
       "      <td>...</td>\n",
       "      <td>...</td>\n",
       "      <td>...</td>\n",
       "      <td>...</td>\n",
       "      <td>...</td>\n",
       "      <td>...</td>\n",
       "      <td>...</td>\n",
       "      <td>...</td>\n",
       "      <td>...</td>\n",
       "      <td>...</td>\n",
       "      <td>...</td>\n",
       "      <td>...</td>\n",
       "      <td>...</td>\n",
       "      <td>...</td>\n",
       "      <td>...</td>\n",
       "      <td>...</td>\n",
       "      <td>...</td>\n",
       "      <td>...</td>\n",
       "      <td>...</td>\n",
       "      <td>...</td>\n",
       "    </tr>\n",
       "    <tr>\n",
       "      <th>4199</th>\n",
       "      <td>Child_1659</td>\n",
       "      <td>5.0</td>\n",
       "      <td>3.900000</td>\n",
       "      <td>1</td>\n",
       "      <td>4.0</td>\n",
       "      <td>3</td>\n",
       "      <td>4.0</td>\n",
       "      <td>0</td>\n",
       "      <td>0</td>\n",
       "      <td>0</td>\n",
       "      <td>...</td>\n",
       "      <td>1</td>\n",
       "      <td>2</td>\n",
       "      <td>0</td>\n",
       "      <td>1</td>\n",
       "      <td>0</td>\n",
       "      <td>3</td>\n",
       "      <td>1</td>\n",
       "      <td>0</td>\n",
       "      <td>0</td>\n",
       "      <td>5.2</td>\n",
       "    </tr>\n",
       "    <tr>\n",
       "      <th>4200</th>\n",
       "      <td>Child_1914</td>\n",
       "      <td>7.0</td>\n",
       "      <td>1.600000</td>\n",
       "      <td>2</td>\n",
       "      <td>5.0</td>\n",
       "      <td>1</td>\n",
       "      <td>3.0</td>\n",
       "      <td>3</td>\n",
       "      <td>0</td>\n",
       "      <td>3</td>\n",
       "      <td>...</td>\n",
       "      <td>2</td>\n",
       "      <td>2</td>\n",
       "      <td>2</td>\n",
       "      <td>2</td>\n",
       "      <td>0</td>\n",
       "      <td>2</td>\n",
       "      <td>3</td>\n",
       "      <td>1</td>\n",
       "      <td>0</td>\n",
       "      <td>9.0</td>\n",
       "    </tr>\n",
       "    <tr>\n",
       "      <th>4201</th>\n",
       "      <td>Child_2194</td>\n",
       "      <td>9.0</td>\n",
       "      <td>5.033395</td>\n",
       "      <td>2</td>\n",
       "      <td>2.0</td>\n",
       "      <td>1</td>\n",
       "      <td>2.0</td>\n",
       "      <td>1</td>\n",
       "      <td>3</td>\n",
       "      <td>0</td>\n",
       "      <td>...</td>\n",
       "      <td>0</td>\n",
       "      <td>2</td>\n",
       "      <td>1</td>\n",
       "      <td>0</td>\n",
       "      <td>3</td>\n",
       "      <td>1</td>\n",
       "      <td>2</td>\n",
       "      <td>0</td>\n",
       "      <td>4</td>\n",
       "      <td>6.7</td>\n",
       "    </tr>\n",
       "    <tr>\n",
       "      <th>4202</th>\n",
       "      <td>Child_2949</td>\n",
       "      <td>7.0</td>\n",
       "      <td>16.000000</td>\n",
       "      <td>2</td>\n",
       "      <td>8.0</td>\n",
       "      <td>1</td>\n",
       "      <td>3.0</td>\n",
       "      <td>1</td>\n",
       "      <td>0</td>\n",
       "      <td>0</td>\n",
       "      <td>...</td>\n",
       "      <td>2</td>\n",
       "      <td>2</td>\n",
       "      <td>1</td>\n",
       "      <td>4</td>\n",
       "      <td>1</td>\n",
       "      <td>2</td>\n",
       "      <td>2</td>\n",
       "      <td>0</td>\n",
       "      <td>1</td>\n",
       "      <td>6.1</td>\n",
       "    </tr>\n",
       "    <tr>\n",
       "      <th>4203</th>\n",
       "      <td>Unknown</td>\n",
       "      <td>7.0</td>\n",
       "      <td>3.900000</td>\n",
       "      <td>2</td>\n",
       "      <td>3.0</td>\n",
       "      <td>2</td>\n",
       "      <td>5.0</td>\n",
       "      <td>3</td>\n",
       "      <td>0</td>\n",
       "      <td>2</td>\n",
       "      <td>...</td>\n",
       "      <td>0</td>\n",
       "      <td>0</td>\n",
       "      <td>2</td>\n",
       "      <td>1</td>\n",
       "      <td>3</td>\n",
       "      <td>1</td>\n",
       "      <td>2</td>\n",
       "      <td>2</td>\n",
       "      <td>4</td>\n",
       "      <td>6.6</td>\n",
       "    </tr>\n",
       "  </tbody>\n",
       "</table>\n",
       "<p>4134 rows × 24 columns</p>\n",
       "</div>"
      ],
      "text/plain": [
       "        Child_ID   Age  Daily_Screen_Time_Hours  Preferred_Activity  \\\n",
       "0     Child_3531  11.0                 5.700000                   3   \n",
       "1     Child_3675   8.0                 1.800000                   0   \n",
       "2     Child_1295  12.0                 3.500000                   2   \n",
       "3      Child_316  10.0                 0.800000                   1   \n",
       "4        Unknown   6.0                 4.600000                   1   \n",
       "...          ...   ...                      ...                 ...   \n",
       "4199  Child_1659   5.0                 3.900000                   1   \n",
       "4200  Child_1914   7.0                 1.600000                   2   \n",
       "4201  Child_2194   9.0                 5.033395                   2   \n",
       "4202  Child_2949   7.0                16.000000                   2   \n",
       "4203     Unknown   7.0                 3.900000                   2   \n",
       "\n",
       "      Device_Dependency_Score  Emotional_Response_To_No_Device  \\\n",
       "0                        10.0                                1   \n",
       "1                         6.0                                1   \n",
       "2                         8.0                                3   \n",
       "3                        10.0                                0   \n",
       "4                         1.0                                3   \n",
       "...                       ...                              ...   \n",
       "4199                      4.0                                3   \n",
       "4200                      5.0                                1   \n",
       "4201                      2.0                                1   \n",
       "4202                      8.0                                1   \n",
       "4203                      3.0                                2   \n",
       "\n",
       "      Parental_Control_Strictness  Impact_on_Academics  Impact_on_Sleep  \\\n",
       "0                             3.0                    0                2   \n",
       "1                             NaN                    3                1   \n",
       "2                             4.0                    3                2   \n",
       "3                             1.0                    3                1   \n",
       "4                             3.0                    0                0   \n",
       "...                           ...                  ...              ...   \n",
       "4199                          4.0                    0                0   \n",
       "4200                          3.0                    3                0   \n",
       "4201                          2.0                    1                3   \n",
       "4202                          3.0                    1                0   \n",
       "4203                          5.0                    3                0   \n",
       "\n",
       "      Physical_Activity_Level  ...  Emotional_Regulation_Use  \\\n",
       "0                           1  ...                         2   \n",
       "1                           2  ...                         3   \n",
       "2                           0  ...                         3   \n",
       "3                           1  ...                         0   \n",
       "4                           3  ...                         3   \n",
       "...                       ...  ...                       ...   \n",
       "4199                        0  ...                         1   \n",
       "4200                        3  ...                         2   \n",
       "4201                        0  ...                         0   \n",
       "4202                        0  ...                         2   \n",
       "4203                        2  ...                         0   \n",
       "\n",
       "      Parental_Monitoring_Level  Gender  Teacher_Feedback  \\\n",
       "0                             0       0                 3   \n",
       "1                             2       2                 2   \n",
       "2                             2       1                 1   \n",
       "3                             2       1                 2   \n",
       "4                             0       0                 4   \n",
       "...                         ...     ...               ...   \n",
       "4199                          2       0                 1   \n",
       "4200                          2       2                 2   \n",
       "4201                          2       1                 0   \n",
       "4202                          2       1                 4   \n",
       "4203                          0       2                 1   \n",
       "\n",
       "      Participation_in_Extracurricular_Activities  \\\n",
       "0                                               1   \n",
       "1                                               3   \n",
       "2                                               0   \n",
       "3                                               1   \n",
       "4                                               1   \n",
       "...                                           ...   \n",
       "4199                                            0   \n",
       "4200                                            0   \n",
       "4201                                            3   \n",
       "4202                                            1   \n",
       "4203                                            3   \n",
       "\n",
       "      Parental_Involvement_in_Education  Peer_Relationship_Quality  \\\n",
       "0                                     1                          3   \n",
       "1                                     3                          2   \n",
       "2                                     0                          3   \n",
       "3                                     3                          3   \n",
       "4                                     3                          0   \n",
       "...                                 ...                        ...   \n",
       "4199                                  3                          1   \n",
       "4200                                  2                          3   \n",
       "4201                                  1                          2   \n",
       "4202                                  2                          2   \n",
       "4203                                  1                          2   \n",
       "\n",
       "      Stress_Levels  Favorite_Subject  Hours_of_Sleep  \n",
       "0                 2                 1             5.3  \n",
       "1                 1                 3             5.4  \n",
       "2                 2                 0             5.7  \n",
       "3                 0                 2             9.2  \n",
       "4                 2                 1             6.5  \n",
       "...             ...               ...             ...  \n",
       "4199              0                 0             5.2  \n",
       "4200              1                 0             9.0  \n",
       "4201              0                 4             6.7  \n",
       "4202              0                 1             6.1  \n",
       "4203              2                 4             6.6  \n",
       "\n",
       "[4134 rows x 24 columns]"
      ]
     },
     "execution_count": 53,
     "metadata": {},
     "output_type": "execute_result"
    }
   ],
   "source": [
    "df"
   ]
  },
  {
   "cell_type": "code",
   "execution_count": 54,
   "id": "40cc6d4b-52ca-4f0d-9aea-9149e57c96ec",
   "metadata": {},
   "outputs": [],
   "source": [
    "df['Device_Dependency_Score'] = df['Device_Dependency_Score'].fillna(\n",
    "    df.groupby('Emotional_Response_To_No_Device')['Device_Dependency_Score'].transform('median')\n",
    ")"
   ]
  },
  {
   "cell_type": "code",
   "execution_count": 55,
   "id": "994bc831-c414-4263-9805-9dcbc10a7ad2",
   "metadata": {},
   "outputs": [
    {
     "name": "stdout",
     "output_type": "stream",
     "text": [
      "0\n"
     ]
    }
   ],
   "source": [
    "print(df['Device_Dependency_Score'].isnull().sum())"
   ]
  },
  {
   "cell_type": "code",
   "execution_count": 56,
   "id": "9d562fac-e1ac-49a5-ba45-3fb07156d6c1",
   "metadata": {},
   "outputs": [],
   "source": [
    "mode_value = df[df['Emotional_Response_To_No_Device'] != 4]['Emotional_Response_To_No_Device'].mode()[0]\n",
    "df['Emotional_Response_To_No_Device'] = df['Emotional_Response_To_No_Device'].replace(4, mode_value)\n",
    "df['Emotional_Response_To_No_Device'] = df['Emotional_Response_To_No_Device'].replace(4, np.nan)  \n",
    "df['Emotional_Response_To_No_Device'] = df['Emotional_Response_To_No_Device'].fillna(df['Emotional_Response_To_No_Device'].mode()[0])"
   ]
  },
  {
   "cell_type": "code",
   "execution_count": 57,
   "id": "0e65e5c0-1370-43f3-b7a8-4dd4f21a62c0",
   "metadata": {},
   "outputs": [
    {
     "name": "stdout",
     "output_type": "stream",
     "text": [
      "[1 3 0 2]\n"
     ]
    }
   ],
   "source": [
    "print(df['Emotional_Response_To_No_Device'].unique())"
   ]
  },
  {
   "cell_type": "code",
   "execution_count": 58,
   "id": "86e56134-feca-49e7-9027-2a6f584b3fab",
   "metadata": {},
   "outputs": [],
   "source": [
    "df['Parental_Control_Strictness'] = df['Parental_Control_Strictness'].fillna(df['Parental_Control_Strictness'].mode()[0])"
   ]
  },
  {
   "cell_type": "code",
   "execution_count": 59,
   "id": "8fdea01d-41f2-4b75-b671-b6bcd1de7a16",
   "metadata": {},
   "outputs": [
    {
     "name": "stdout",
     "output_type": "stream",
     "text": [
      "0\n"
     ]
    }
   ],
   "source": [
    "print(df['Parental_Control_Strictness'].isnull().sum())"
   ]
  },
  {
   "cell_type": "code",
   "execution_count": 60,
   "id": "2279573d-542e-4d3f-95d1-048bda78d5d3",
   "metadata": {},
   "outputs": [
    {
     "name": "stdout",
     "output_type": "stream",
     "text": [
      "[0 1 2]\n"
     ]
    }
   ],
   "source": [
    "mode_value = df[df['Impact_on_Academics'] != 3]['Impact_on_Academics'].mode()[0]\n",
    "df['Impact_on_Academics'] = df['Impact_on_Academics'].replace(3, mode_value)\n",
    "df['Impact_on_Academics'] = df['Impact_on_Academics'].replace(3, np.nan)\n",
    "df['Impact_on_Academics'] = df['Impact_on_Academics'].fillna(df['Impact_on_Academics'].mode()[0])\n",
    "print(df['Impact_on_Academics'].unique())"
   ]
  },
  {
   "cell_type": "code",
   "execution_count": 61,
   "id": "3af0585e-eca3-4d53-a282-187679e3b3cd",
   "metadata": {},
   "outputs": [
    {
     "name": "stdout",
     "output_type": "stream",
     "text": [
      "[2 1 0]\n"
     ]
    }
   ],
   "source": [
    "mode_value = df[df['Impact_on_Sleep'] != 3]['Impact_on_Sleep'].mode()[0]\n",
    "df['Impact_on_Sleep'] = df['Impact_on_Sleep'].replace(3, mode_value)\n",
    "df['Impact_on_Sleep'] = df['Impact_on_Sleep'].replace(3, np.nan)\n",
    "df['Impact_on_Sleep'] = df['Impact_on_Sleep'].fillna(df['Impact_on_Sleep'].mode()[0])\n",
    "print(df['Impact_on_Sleep'].unique())"
   ]
  },
  {
   "cell_type": "code",
   "execution_count": 62,
   "id": "60be0d18-bc1f-4f46-afb3-fcb7861c4624",
   "metadata": {},
   "outputs": [
    {
     "name": "stdout",
     "output_type": "stream",
     "text": [
      "[1 2 0]\n"
     ]
    }
   ],
   "source": [
    "mode_value = df[df['Physical_Activity_Level'] != 3]['Physical_Activity_Level'].mode()[0]\n",
    "df['Physical_Activity_Level'] = df['Physical_Activity_Level'].replace(3, mode_value)\n",
    "df['Physical_Activity_Level'] = df['Physical_Activity_Level'].replace(3, np.nan)\n",
    "df['Physical_Activity_Level'] = df['Physical_Activity_Level'].fillna(df['Physical_Activity_Level'].mode()[0])\n",
    "print(df['Physical_Activity_Level'].unique())"
   ]
  },
  {
   "cell_type": "code",
   "execution_count": 63,
   "id": "1429fc5d-48ea-4059-9a43-3e90a8591963",
   "metadata": {},
   "outputs": [
    {
     "name": "stdout",
     "output_type": "stream",
     "text": [
      "[1 2 0]\n"
     ]
    }
   ],
   "source": [
    "mode_value = df[df['Social_Interactions_Preference'] != 3]['Social_Interactions_Preference'].mode()[0]\n",
    "df['Social_Interactions_Preference'] = df['Social_Interactions_Preference'].replace(3, mode_value)\n",
    "df['Social_Interactions_Preference'] = df['Social_Interactions_Preference'].replace(3, np.nan)\n",
    "df['Social_Interactions_Preference'] = df['Social_Interactions_Preference'].fillna(df['Social_Interactions_Preference'].mode()[0])\n",
    "print(df['Social_Interactions_Preference'].unique())"
   ]
  },
  {
   "cell_type": "code",
   "execution_count": 64,
   "id": "f66ac907-a80e-4acf-9a23-94a07f688ebf",
   "metadata": {},
   "outputs": [
    {
     "name": "stdout",
     "output_type": "stream",
     "text": [
      "[1 0 2]\n"
     ]
    }
   ],
   "source": [
    "mode_value = df[df['Parent_Screen_Time_Habits'] != 3]['Parent_Screen_Time_Habits'].mode()[0]\n",
    "df['Parent_Screen_Time_Habits'] = df['Parent_Screen_Time_Habits'].replace(3, mode_value)\n",
    "df['Parent_Screen_Time_Habits'] = df['Parent_Screen_Time_Habits'].replace(3, np.nan)\n",
    "df['Parent_Screen_Time_Habits'] = df['Parent_Screen_Time_Habits'].fillna(df['Parent_Screen_Time_Habits'].mode()[0])\n",
    "print(df['Parent_Screen_Time_Habits'].unique())"
   ]
  },
  {
   "cell_type": "code",
   "execution_count": 65,
   "id": "2555042c-cf6b-47ea-a6e7-9d5bc0ba9e8c",
   "metadata": {},
   "outputs": [
    {
     "name": "stdout",
     "output_type": "stream",
     "text": [
      "[1 3 2]\n"
     ]
    }
   ],
   "source": [
    "mode_value = df[df['Sibling_Influence'] != 0]['Sibling_Influence'].mode()[0]\n",
    "df['Sibling_Influence'] = df['Sibling_Influence'].replace(0, mode_value)\n",
    "df['Sibling_Influence'] = df['Sibling_Influence'].replace(0, np.nan)\n",
    "df['Sibling_Influence'] = df['Sibling_Influence'].fillna(df['Sibling_Influence'].mode()[0])\n",
    "print(df['Sibling_Influence'].unique())"
   ]
  },
  {
   "cell_type": "code",
   "execution_count": 66,
   "id": "11493f04-6f88-4119-8ac2-4ce81b455ce7",
   "metadata": {},
   "outputs": [
    {
     "name": "stdout",
     "output_type": "stream",
     "text": [
      "[1 0 3]\n"
     ]
    }
   ],
   "source": [
    "mode_value = df[df['Cognitive_Impact'] != 2]['Cognitive_Impact'].mode()[0]\n",
    "df['Cognitive_Impact'] = df['Cognitive_Impact'].replace(2, mode_value)\n",
    "df['Cognitive_Impact'] = df['Cognitive_Impact'].replace(2, np.nan)\n",
    "df['Cognitive_Impact'] = df['Cognitive_Impact'].fillna(df['Cognitive_Impact'].mode()[0])\n",
    "print(df['Cognitive_Impact'].unique())"
   ]
  },
  {
   "cell_type": "code",
   "execution_count": 67,
   "id": "c6e1d327-1aff-4347-9c2d-ab9682edc9ca",
   "metadata": {},
   "outputs": [
    {
     "name": "stdout",
     "output_type": "stream",
     "text": [
      "[2 3 0]\n"
     ]
    }
   ],
   "source": [
    "median_value = df[df['Emotional_Regulation_Use'] != 1]['Emotional_Regulation_Use'].median()\n",
    "\n",
    "df['Emotional_Regulation_Use'] = df['Emotional_Regulation_Use'].replace(1, median_value)\n",
    "\n",
    "df['Emotional_Regulation_Use'] = df['Emotional_Regulation_Use'].fillna(\n",
    "    df.groupby('Preferred_Activity')['Emotional_Regulation_Use'].transform('median')\n",
    ")\n",
    "\n",
    "print(df['Emotional_Regulation_Use'].unique())"
   ]
  },
  {
   "cell_type": "code",
   "execution_count": 68,
   "id": "f8280ae9-2cd9-467b-8023-26514d4cc3ee",
   "metadata": {},
   "outputs": [
    {
     "name": "stdout",
     "output_type": "stream",
     "text": [
      "[0 2 1]\n"
     ]
    }
   ],
   "source": [
    "mode_value = df[df['Parental_Monitoring_Level'] != 3]['Parental_Monitoring_Level'].mode()[0]\n",
    "df['Parental_Monitoring_Level'] = df['Parental_Monitoring_Level'].replace(3, mode_value)\n",
    "df['Parental_Monitoring_Level'] = df['Parental_Monitoring_Level'].replace(3, np.nan)\n",
    "df['Parental_Monitoring_Level'] = df['Parental_Monitoring_Level'].fillna(df['Parental_Monitoring_Level'].mode()[0])\n",
    "print(df['Parental_Monitoring_Level'].unique())"
   ]
  },
  {
   "cell_type": "code",
   "execution_count": 69,
   "id": "c3db7ebc-e068-4909-ad87-5e7781b68837",
   "metadata": {},
   "outputs": [
    {
     "name": "stdout",
     "output_type": "stream",
     "text": [
      "[0 1]\n"
     ]
    }
   ],
   "source": [
    "mode_value = df[df['Gender'] != 2]['Gender'].mode()[0]\n",
    "df['Gender'] = df['Gender'].replace(2, mode_value)\n",
    "df['Gender'] = df['Gender'].replace(2, np.nan)\n",
    "df['Gender'] = df['Gender'].fillna(df['Gender'].mode()[0])\n",
    "print(df['Gender'].unique())"
   ]
  },
  {
   "cell_type": "code",
   "execution_count": 70,
   "id": "ab3e65f4-499b-4821-a312-85ff7e570bc4",
   "metadata": {},
   "outputs": [
    {
     "name": "stdout",
     "output_type": "stream",
     "text": [
      "[3 2 1 4 0]\n"
     ]
    }
   ],
   "source": [
    "mode_value = df[df['Teacher_Feedback'] != 5]['Teacher_Feedback'].mode()[0]\n",
    "df['Teacher_Feedback'] = df['Teacher_Feedback'].replace(5, mode_value)\n",
    "df['Teacher_Feedback'] = df['Teacher_Feedback'].replace(5, np.nan)\n",
    "df['Teacher_Feedback'] = df['Teacher_Feedback'].fillna(df['Teacher_Feedback'].mode()[0])\n",
    "print(df['Teacher_Feedback'].unique())"
   ]
  },
  {
   "cell_type": "code",
   "execution_count": 71,
   "id": "38c662a9-5236-4ff0-9c70-b349fcbe6ebf",
   "metadata": {},
   "outputs": [
    {
     "name": "stdout",
     "output_type": "stream",
     "text": [
      "[1 0 2]\n"
     ]
    }
   ],
   "source": [
    "mode_value = df[df['Participation_in_Extracurricular_Activities'] != 3]['Participation_in_Extracurricular_Activities'].mode()[0]\n",
    "df['Participation_in_Extracurricular_Activities'] = df['Participation_in_Extracurricular_Activities'].replace(3, mode_value)\n",
    "df['Participation_in_Extracurricular_Activities'] = df['Participation_in_Extracurricular_Activities'].replace(3, np.nan)\n",
    "df['Participation_in_Extracurricular_Activities'] = df['Participation_in_Extracurricular_Activities'].fillna(df['Participation_in_Extracurricular_Activities'].mode()[0])\n",
    "print(df['Participation_in_Extracurricular_Activities'].unique())"
   ]
  },
  {
   "cell_type": "code",
   "execution_count": 72,
   "id": "54cd6c58-ef41-4806-a722-7ae9cc991e3a",
   "metadata": {},
   "outputs": [
    {
     "name": "stdout",
     "output_type": "stream",
     "text": [
      "[1 2 0]\n"
     ]
    }
   ],
   "source": [
    "mode_value = df[df['Parental_Involvement_in_Education'] != 3]['Parental_Involvement_in_Education'].mode()[0]\n",
    "df['Parental_Involvement_in_Education'] = df['Parental_Involvement_in_Education'].replace(3, mode_value)\n",
    "df['Parental_Involvement_in_Education'] = df['Parental_Involvement_in_Education'].replace(3, np.nan)\n",
    "df['Parental_Involvement_in_Education'] = df['Parental_Involvement_in_Education'].fillna(df['Parental_Involvement_in_Education'].mode()[0])\n",
    "print(df['Parental_Involvement_in_Education'].unique())"
   ]
  },
  {
   "cell_type": "code",
   "execution_count": 73,
   "id": "33caf5d3-e1c7-4ba7-8ab2-d24294b1eca2",
   "metadata": {},
   "outputs": [
    {
     "name": "stdout",
     "output_type": "stream",
     "text": [
      "[3 2 0 1]\n"
     ]
    }
   ],
   "source": [
    "mode_value = df[df['Peer_Relationship_Quality'] != 4]['Peer_Relationship_Quality'].mode()[0]\n",
    "df['Peer_Relationship_Quality'] = df['Peer_Relationship_Quality'].replace(4, mode_value)\n",
    "df['Peer_Relationship_Quality'] = df['Peer_Relationship_Quality'].replace(4, np.nan)\n",
    "df['Peer_Relationship_Quality'] = df['Peer_Relationship_Quality'].fillna(df['Peer_Relationship_Quality'].mode()[0])\n",
    "print(df['Peer_Relationship_Quality'].unique())"
   ]
  },
  {
   "cell_type": "code",
   "execution_count": 74,
   "id": "4725e08b-d49f-4836-a36f-90944e98c712",
   "metadata": {},
   "outputs": [
    {
     "name": "stdout",
     "output_type": "stream",
     "text": [
      "[1 3 0 2 4]\n"
     ]
    }
   ],
   "source": [
    "mode_value = df[df['Favorite_Subject'] != 5]['Favorite_Subject'].mode()[0]\n",
    "df['Favorite_Subject'] = df['Favorite_Subject'].replace(5, mode_value)\n",
    "df['Favorite_Subject'] = df['Favorite_Subject'].replace(5, np.nan)\n",
    "df['Favorite_Subject'] = df['Favorite_Subject'].fillna(df['Favorite_Subject'].mode()[0])\n",
    "print(df['Favorite_Subject'].unique())"
   ]
  },
  {
   "cell_type": "code",
   "execution_count": 75,
   "id": "22bbb95c-ca7e-4700-8261-2569be0bdcc4",
   "metadata": {},
   "outputs": [
    {
     "data": {
      "text/plain": [
       "Child_ID                                       0\n",
       "Age                                            0\n",
       "Daily_Screen_Time_Hours                        0\n",
       "Preferred_Activity                             0\n",
       "Device_Dependency_Score                        0\n",
       "Emotional_Response_To_No_Device                0\n",
       "Parental_Control_Strictness                    0\n",
       "Impact_on_Academics                            0\n",
       "Impact_on_Sleep                                0\n",
       "Physical_Activity_Level                        0\n",
       "Social_Interactions_Preference                 0\n",
       "Parent_Screen_Time_Habits                      0\n",
       "Sibling_Influence                              0\n",
       "Cognitive_Impact                               0\n",
       "Emotional_Regulation_Use                       0\n",
       "Parental_Monitoring_Level                      0\n",
       "Gender                                         0\n",
       "Teacher_Feedback                               0\n",
       "Participation_in_Extracurricular_Activities    0\n",
       "Parental_Involvement_in_Education              0\n",
       "Peer_Relationship_Quality                      0\n",
       "Stress_Levels                                  0\n",
       "Favorite_Subject                               0\n",
       "Hours_of_Sleep                                 0\n",
       "dtype: int64"
      ]
     },
     "execution_count": 75,
     "metadata": {},
     "output_type": "execute_result"
    }
   ],
   "source": [
    "df.isnull().sum()"
   ]
  },
  {
   "cell_type": "code",
   "execution_count": 76,
   "id": "920bbeff-0184-4b51-a3f3-06f9db7fd243",
   "metadata": {},
   "outputs": [
    {
     "data": {
      "text/plain": [
       "0       Moderate\n",
       "1            Low\n",
       "2       Moderate\n",
       "3            Low\n",
       "4       Moderate\n",
       "          ...   \n",
       "4199    Moderate\n",
       "4200         Low\n",
       "4201    Moderate\n",
       "4202        High\n",
       "4203    Moderate\n",
       "Name: Screen_Time_Impact, Length: 4134, dtype: object"
      ]
     },
     "execution_count": 76,
     "metadata": {},
     "output_type": "execute_result"
    }
   ],
   "source": [
    "def categorize_screen_time(row):\n",
    "    if row['Daily_Screen_Time_Hours'] <= 3:\n",
    "        return 'Low'\n",
    "    elif row['Daily_Screen_Time_Hours'] <= 7:\n",
    "        return 'Moderate'\n",
    "    else:\n",
    "        return 'High'\n",
    "\n",
    "df['Screen_Time_Impact'] = df.apply(categorize_screen_time, axis=1)\n",
    "df['Screen_Time_Impact']"
   ]
  },
  {
   "cell_type": "code",
   "execution_count": 77,
   "id": "309bfd09-2413-4dbd-a2a0-97c7f5329346",
   "metadata": {},
   "outputs": [
    {
     "data": {
      "image/png": "[encoded data removed]",
      "text/plain": [
       "<Figure size 800x500 with 1 Axes>"
      ]
     },
     "metadata": {},
     "output_type": "display_data"
    }
   ],
   "source": [
    "plt.figure(figsize=(8, 5))\n",
    "sns.countplot(\n",
    "    data=df,x='Screen_Time_Impact', hue='Screen_Time_Impact', \n",
    "    palette='viridis',legend=False  \n",
    ")\n",
    "plt.title(\"Distribution of Screen Time Impact Categories\")\n",
    "plt.xlabel(\"Screen Time Impact\")\n",
    "plt.ylabel(\"Count\")\n",
    "plt.show()"
   ]
  },
  {
   "cell_type": "code",
   "execution_count": 78,
   "id": "02fb01a1-5baf-4125-9666-2fe4628b24a8",
   "metadata": {},
   "outputs": [
    {
     "data": {
      "text/plain": [
       "0       0_1\n",
       "1       1_2\n",
       "2       1_0\n",
       "3       1_1\n",
       "4       0_0\n",
       "       ... \n",
       "4199    0_0\n",
       "4200    1_0\n",
       "4201    1_0\n",
       "4202    1_0\n",
       "4203    1_2\n",
       "Name: Academic_Physical_Relation, Length: 4134, dtype: object"
      ]
     },
     "execution_count": 78,
     "metadata": {},
     "output_type": "execute_result"
    }
   ],
   "source": [
    "df['Academic_Physical_Relation'] = df['Impact_on_Academics'].astype(str) + \"_\" + df['Physical_Activity_Level'].astype(str)\n",
    "df['Academic_Physical_Relation']"
   ]
  },
  {
   "cell_type": "code",
   "execution_count": 79,
   "id": "1b99e653-19d3-4d2b-8a52-126f73f0e2bf",
   "metadata": {},
   "outputs": [
    {
     "data": {
      "image/png": "[encoded data removed]",
      "text/plain": [
       "<Figure size 1000x500 with 1 Axes>"
      ]
     },
     "metadata": {},
     "output_type": "display_data"
    }
   ],
   "source": [
    "plt.figure(figsize=(10, 5))\n",
    "sns.countplot(\n",
    "    data=df,y='Academic_Physical_Relation',order=df['Academic_Physical_Relation'].value_counts().index,hue='Academic_Physical_Relation',\n",
    "    palette='coolwarm',legend=False)\n",
    "plt.title(\"Academic Impact vs. Physical Activity Level\")\n",
    "plt.xlabel(\"Count\")\n",
    "plt.ylabel(\"Academic-Physical Activity Relation\")\n",
    "plt.show()"
   ]
  },
  {
   "cell_type": "code",
   "execution_count": 80,
   "id": "febd07e1-d490-4979-a8e0-4e5060cf9a7d",
   "metadata": {},
   "outputs": [
    {
     "data": {
      "text/plain": [
       "0       3\n",
       "1       2\n",
       "2       5\n",
       "3       0\n",
       "4       5\n",
       "       ..\n",
       "4199    3\n",
       "4200    2\n",
       "4201    1\n",
       "4202    1\n",
       "4203    4\n",
       "Name: Emotional_Stability_Score, Length: 4134, dtype: int64"
      ]
     },
     "execution_count": 80,
     "metadata": {},
     "output_type": "execute_result"
    }
   ],
   "source": [
    "df['Emotional_Stability_Score'] = df['Emotional_Response_To_No_Device'].astype(int) + df['Stress_Levels'].astype(int)\n",
    "df['Emotional_Stability_Score']"
   ]
  },
  {
   "cell_type": "code",
   "execution_count": 81,
   "id": "2534fc96-a709-464d-8adf-af270fe548f0",
   "metadata": {},
   "outputs": [
    {
     "data": {
      "image/png": "[encoded data removed]",
      "text/plain": [
       "<Figure size 800x500 with 1 Axes>"
      ]
     },
     "metadata": {},
     "output_type": "display_data"
    }
   ],
   "source": [
    "plt.figure(figsize=(8, 5))\n",
    "sns.histplot(df['Emotional_Stability_Score'], bins=10, kde=True, color='purple')\n",
    "plt.title(\"Distribution of Emotional Stability Scores\")\n",
    "plt.xlabel(\"Emotional Stability Score\")\n",
    "plt.ylabel(\"Count\")\n",
    "plt.show()"
   ]
  },
  {
   "cell_type": "code",
   "execution_count": 82,
   "id": "324768a4-9230-4de6-8ca3-8f5c27ba58b8",
   "metadata": {},
   "outputs": [
    {
     "data": {
      "text/plain": [
       "0       1_0\n",
       "1       2_1\n",
       "2       1_1\n",
       "3       0_1\n",
       "4       0_0\n",
       "       ... \n",
       "4199    0_0\n",
       "4200    1_1\n",
       "4201    0_1\n",
       "4202    1_1\n",
       "4203    0_1\n",
       "Name: Social_Academic_Relation, Length: 4134, dtype: object"
      ]
     },
     "execution_count": 82,
     "metadata": {},
     "output_type": "execute_result"
    }
   ],
   "source": [
    "df['Social_Academic_Relation'] = df['Social_Interactions_Preference'].astype(str) + \"_\" + df['Impact_on_Academics'].astype(str)\n",
    "df['Social_Academic_Relation']"
   ]
  },
  {
   "cell_type": "code",
   "execution_count": 83,
   "id": "737ad833-e69c-45cc-8401-523eeb923ce3",
   "metadata": {},
   "outputs": [
    {
     "data": {
      "image/png": "[encoded data removed]",
      "text/plain": [
       "<Figure size 1200x500 with 1 Axes>"
      ]
     },
     "metadata": {},
     "output_type": "display_data"
    }
   ],
   "source": [
    "plt.figure(figsize=(12, 5))\n",
    "sns.countplot(data=df, x='Impact_on_Academics', hue='Social_Interactions_Preference', palette='Set2')\n",
    "plt.title(\"Academic Impact based on Social Interaction Preference\")\n",
    "plt.xlabel(\"Academic Impact\")\n",
    "plt.ylabel(\"Count\")\n",
    "plt.legend(title=\"Social Interaction\")\n",
    "plt.show()"
   ]
  },
  {
   "cell_type": "code",
   "execution_count": 84,
   "id": "4ded6936-6c4a-46a2-93c3-d68f60e676cc",
   "metadata": {},
   "outputs": [
    {
     "name": "stdout",
     "output_type": "stream",
     "text": [
      "     Child_ID   Age  Daily_Screen_Time_Hours Preferred_Activity  \\\n",
      "0  Child_3531  11.0                      5.7       Youtube Kids   \n",
      "1  Child_3675   8.0                      1.8   Educational Apps   \n",
      "2  Child_1295  12.0                      3.5     Video Watching   \n",
      "3   Child_316  10.0                      0.8             Gaming   \n",
      "4     Unknown   6.0                      4.6             Gaming   \n",
      "\n",
      "   Device_Dependency_Score Emotional_Response_To_No_Device  \\\n",
      "0                     10.0                       Irritable   \n",
      "1                      6.0                       Irritable   \n",
      "2                      8.0                      Unbothered   \n",
      "3                     10.0                      Distressed   \n",
      "4                      1.0                      Unbothered   \n",
      "\n",
      "   Parental_Control_Strictness Impact_on_Academics Impact_on_Sleep  \\\n",
      "0                          3.0                high         Neutral   \n",
      "1                          4.0                 low        Improved   \n",
      "2                          4.0                 low         Neutral   \n",
      "3                          1.0                 low        Improved   \n",
      "4                          3.0                high       Disrupted   \n",
      "\n",
      "  Physical_Activity_Level  ... Participation_in_Extracurricular_Activities  \\\n",
      "0                Moderate  ...                                         low   \n",
      "1                     low  ...                                         low   \n",
      "2                    High  ...                                        high   \n",
      "3                Moderate  ...                                         low   \n",
      "4                    High  ...                                         low   \n",
      "\n",
      "  Parental_Involvement_in_Education Peer_Relationship_Quality Stress_Levels  \\\n",
      "0                               low                      poor      moderate   \n",
      "1                          moderate                      good           low   \n",
      "2                              high                      poor      moderate   \n",
      "3                          moderate                      poor          high   \n",
      "4                          moderate                   average      moderate   \n",
      "\n",
      "     Favorite_Subject Hours_of_Sleep Screen_Time_Impact  \\\n",
      "0          literature            5.3           Moderate   \n",
      "1  physical education            5.4                Low   \n",
      "2                 art            5.7           Moderate   \n",
      "3                math            9.2                Low   \n",
      "4          literature            6.5           Moderate   \n",
      "\n",
      "  Academic_Physical_Relation Emotional_Stability_Score  \\\n",
      "0                        0_1                         3   \n",
      "1                        1_2                         2   \n",
      "2                        1_0                         5   \n",
      "3                        1_1                         0   \n",
      "4                        0_0                         5   \n",
      "\n",
      "  Social_Academic_Relation  \n",
      "0                      1_0  \n",
      "1                      2_1  \n",
      "2                      1_1  \n",
      "3                      0_1  \n",
      "4                      0_0  \n",
      "\n",
      "[5 rows x 28 columns]\n"
     ]
    }
   ],
   "source": [
    "category_mappings = { \n",
    "    'Preferred_Activity': {0: 'Educational Apps', 1: 'Gaming', 2: 'Video Watching', 3: 'Youtube Kids'},\n",
    "    'Emotional_Response_To_No_Device': {0: 'Distressed', 1: 'Irritable', 2: 'Neutral', 3: 'Unbothered'},\n",
    "    'Impact_on_Academics': {0: 'high', 1: 'low', 2: 'moderate'},\n",
    "    'Impact_on_Sleep': {0: 'Disrupted', 1: 'Improved', 2: 'Neutral'},\n",
    "    'Physical_Activity_Level': {0: 'High', 1: 'Moderate', 2: 'low'},\n",
    "    'Social_Interactions_Preference': {0: 'Balanced', 1: 'Offline', 2: 'Online'},\n",
    "    'Parent_Screen_Time_Habits': {0: 'high', 1: 'low', 2: 'moderate'},\n",
    "    'Sibling_Influence': {1: 'negative', 2: 'neutral', 3: 'positive'},\n",
    "    'Cognitive_Impact': {0: 'declined', 1: 'improved', 3: 'neutral'},\n",
    "    'Emotional_Regulation_Use': {0: 'frequent', 2: 'occasional', 3: 'rare'},\n",
    "    'Parental_Monitoring_Level': {0: 'High', 1: 'Low', 2: 'Moderate'},\n",
    "    'Gender': {0: 'Female', 1: 'Male'},\n",
    "    'Teacher_Feedback': {\n",
    "        0: 'No feedback provided due to missing data.',\n",
    "        1: 'Student is maintaining a satisfactory performance in class but shows room for improvement in creativity. Moderate screen time could be better managed to encourage more creative thinking.',\n",
    "        2: 'Student is performing well in class and demonstrates excellent creativity. The balanced screen time seems to contribute positively to their engagement and imagination.',\n",
    "        3: \"Student's high screen time is impacting classroom performance and limiting creative expression.\",\n",
    "        4: \"Student's high screen time is impacting classroom performance and limiting creative expression. Reducing screen time could significantly enhance their focus and originality.\"\n",
    "    },\n",
    "    'Participation_in_Extracurricular_Activities': {0: 'high', 1: 'low', 2: 'moderate'},\n",
    "    'Parental_Involvement_in_Education': {0: 'high', 1: 'low', 2: 'moderate'},\n",
    "    'Peer_Relationship_Quality': {0: 'average', 1: 'excellent', 2: 'good', 3: 'poor'},\n",
    "    'Stress_Levels': {0: 'high', 1: 'low', 2: 'moderate'},\n",
    "    'Favorite_Subject': {0: 'art', 1: 'literature', 2: 'math', 3: 'physical education', 4: 'science'}\n",
    "}\n",
    "\n",
    "for col, mapping in category_mappings.items():\n",
    "    df[col] = df[col].map(mapping)\n",
    "\n",
    "print(df.head())"
   ]
  },
  {
   "cell_type": "code",
   "execution_count": 90,
   "id": "3b6ded04-f6d3-4e94-8fc8-dafb4466f73f",
   "metadata": {},
   "outputs": [
    {
     "data": {
      "image/png": "[encoded data removed]",
      "text/plain": [
       "<Figure size 1000x500 with 1 Axes>"
      ]
     },
     "metadata": {},
     "output_type": "display_data"
    }
   ],
   "source": [
    "plt.figure(figsize=(10, 5))\n",
    "sns.countplot(data=df,x='Preferred_Activity',hue='Preferred_Activity', palette=\"coolwarm\",legend=False  \n",
    ")\n",
    "plt.xlabel('Preferred Activity')\n",
    "plt.ylabel('Count')\n",
    "plt.title('Distribution of Preferred Activities')\n",
    "plt.xticks(rotation=45)\n",
    "plt.show()"
   ]
  },
  {
   "cell_type": "code",
   "execution_count": 86,
   "id": "caa46677-d456-4a3d-83a7-28f66175a03a",
   "metadata": {},
   "outputs": [
    {
     "data": {
      "text/plain": [
       "Text(0.5, 1.0, 'Histogram of Daily Screen Time')"
      ]
     },
     "execution_count": 86,
     "metadata": {},
     "output_type": "execute_result"
    },
    {
     "data": {
      "image/png": "[encoded data removed]",
      "text/plain": [
       "<Figure size 800x500 with 1 Axes>"
      ]
     },
     "metadata": {},
     "output_type": "display_data"
    }
   ],
   "source": [
    "plt.figure(figsize=(8, 5))\n",
    "sns.histplot(df['Daily_Screen_Time_Hours'], bins=10, kde=True, color='blue')\n",
    "plt.xlabel('Daily Screen Time (Hours)')\n",
    "plt.ylabel('Frequency')\n",
    "plt.title('Histogram of Daily Screen Time')"
   ]
  },
  {
   "cell_type": "code",
   "execution_count": 91,
   "id": "eb6ab8b7-60f6-4e50-9538-5f88546c4bb1",
   "metadata": {},
   "outputs": [
    {
     "data": {
      "image/png": "[encoded data removed]",
      "text/plain": [
       "<Figure size 1000x500 with 1 Axes>"
      ]
     },
     "metadata": {},
     "output_type": "display_data"
    }
   ],
   "source": [
    "plt.figure(figsize=(10, 5))\n",
    "sns.countplot(data=df,x='Age',hue='Age', palette=\"viridis\",legend=False \n",
    ")\n",
    "plt.xlabel('Age')\n",
    "plt.ylabel('Count')\n",
    "plt.title('Distribution of Age')\n",
    "plt.show()"
   ]
  },
  {
   "cell_type": "code",
   "execution_count": 88,
   "id": "2e35cdd3-3d50-4d55-9913-f7f8855461d4",
   "metadata": {},
   "outputs": [
    {
     "data": {
      "text/plain": [
       "Text(0.5, 1.0, 'Heatmap of Feature Correlations')"
      ]
     },
     "execution_count": 88,
     "metadata": {},
     "output_type": "execute_result"
    },
    {
     "data": {
      "image/png": "[encoded data removed]",
      "text/plain": [
       "<Figure size 1000x600 with 2 Axes>"
      ]
     },
     "metadata": {},
     "output_type": "display_data"
    }
   ],
   "source": [
    "plt.figure(figsize=(10, 6))\n",
    "sns.heatmap(df.select_dtypes(include=['number']).corr(), annot=True, cmap='coolwarm', linewidths=0.5)\n",
    "plt.title('Heatmap of Feature Correlations')"
   ]
  },
  {
   "cell_type": "code",
   "execution_count": 89,
   "id": "16a40505-0d90-4a7d-ab05-4ad754d2b546",
   "metadata": {},
   "outputs": [
    {
     "data": {
      "text/plain": [
       "Text(0.5, 1.0, 'Distribution of Emotional Response to No Device')"
      ]
     },
     "execution_count": 89,
     "metadata": {},
     "output_type": "execute_result"
    },
    {
     "data": {
      "image/png": "[encoded data removed]",
      "text/plain": [
       "<Figure size 600x600 with 1 Axes>"
      ]
     },
     "metadata": {},
     "output_type": "display_data"
    }
   ],
   "source": [
    "plt.figure(figsize=(6, 6))\n",
    "df['Emotional_Response_To_No_Device'].value_counts().plot.pie(autopct='%1.1f%%', startangle=90, cmap='coolwarm', shadow=True)\n",
    "plt.ylabel('')\n",
    "plt.title('Distribution of Emotional Response to No Device')"
   ]
  },
  {
   "cell_type": "code",
   "execution_count": null,
   "id": "1c7a0188-9c7e-403f-8258-54b6a8d215ca",
   "metadata": {},
   "outputs": [],
   "source": []
  }
 ],
 "metadata": {
  "kernelspec": {
   "display_name": "Python 3 (ipykernel)",
   "language": "python",
   "name": "python3"
  },
  "language_info": {
   "codemirror_mode": {
    "name": "ipython",
    "version": 3
   },
   "file_extension": ".py",
   "mimetype": "text/x-python",
   "name": "python",
   "nbconvert_exporter": "python",
   "pygments_lexer": "ipython3",
   "version": "3.13.0"
  }
 },
 "nbformat": 4,
 "nbformat_minor": 5
}
